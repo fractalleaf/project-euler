{
 "cells": [
  {
   "cell_type": "markdown",
   "metadata": {},
   "source": [
    "# Project Euler problem 1 - Multiples of 3 and 5"
   ]
  },
  {
   "cell_type": "markdown",
   "metadata": {},
   "source": [
    "[Link to problem on Project Euler homepage](https://projecteuler.net/problem=1)\n",
    "\n",
    "## Description\n",
    "\n",
    "If we list all the natural numbers below 10 that are multiples of 3 or 5, we get 3, 5, 6 and 9. The sum of these multiples is 23.\n",
    "\n",
    "Find the sum of all the multiples of 3 or 5 below 1000."
   ]
  },
  {
   "cell_type": "markdown",
   "metadata": {},
   "source": [
    "## Brute force solution\n",
    "A brute force solution to the problem can be obtained by simply looping over every integer below 1000 and checking if it is divisible by either 3 or 5."
   ]
  },
  {
   "cell_type": "code",
   "execution_count": 1,
   "metadata": {},
   "outputs": [
    {
     "name": "stdout",
     "output_type": "stream",
     "text": [
      "88.8 µs ± 578 ns per loop (mean ± std. dev. of 7 runs, 10000 loops each)\n"
     ]
    }
   ],
   "source": [
    "def p001():\n",
    "    total = 0\n",
    "    for n in range(1000):\n",
    "        if n % 3 == 0 or n % 5 == 0:\n",
    "            total += n\n",
    "    return total\n",
    "\n",
    "%timeit p001()"
   ]
  },
  {
   "cell_type": "markdown",
   "metadata": {},
   "source": [
    "## Clever solution\n",
    "\n",
    "The sum of all integers smaller than N, divisible by n, may be written as\n",
    "\n",
    "$$f(n, N) = n \\times \\sum_{i=1}^{\\lfloor N/n \\rfloor} i = n \\times \\frac{\\lfloor N/n \\rfloor (\\lfloor N/n \\rfloor + 1)}{2}$$\n",
    "\n",
    "The solution to the problem is therefore given by $f(3, 999) + f(5, 999) - f(15, 999)$ where the last term is subtracted to take care of the doulbe counting of those integers that are divisible by both 3 and 5."
   ]
  },
  {
   "cell_type": "code",
   "execution_count": 2,
   "metadata": {},
   "outputs": [
    {
     "name": "stdout",
     "output_type": "stream",
     "text": [
      "692 ns ± 8.37 ns per loop (mean ± std. dev. of 7 runs, 1000000 loops each)\n"
     ]
    }
   ],
   "source": [
    "def sumDiv(n, N):\n",
    "    p = N//n\n",
    "    return n * p*(p+1) // 2\n",
    "\n",
    "def p001():\n",
    "    return sumDiv(3, 999) + sumDiv(5, 999) - sumDiv(15, 999)\n",
    "\n",
    "%timeit p001()"
   ]
  },
  {
   "cell_type": "markdown",
   "metadata": {},
   "source": [
    "The clever solution is faster by the brute force solution by more than a factor 100."
   ]
  }
 ],
 "metadata": {
  "kernelspec": {
   "display_name": "Python 3",
   "language": "python",
   "name": "python3"
  },
  "language_info": {
   "codemirror_mode": {
    "name": "ipython",
    "version": 3
   },
   "file_extension": ".py",
   "mimetype": "text/x-python",
   "name": "python",
   "nbconvert_exporter": "python",
   "pygments_lexer": "ipython3",
   "version": "3.6.4"
  }
 },
 "nbformat": 4,
 "nbformat_minor": 2
}
