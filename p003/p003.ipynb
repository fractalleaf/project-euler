{
 "cells": [
  {
   "cell_type": "markdown",
   "metadata": {},
   "source": [
    "# Project Euler problem 3 - Largest prime factor"
   ]
  },
  {
   "cell_type": "markdown",
   "metadata": {},
   "source": [
    "[Link to problem on Project Euler homepage](https://projecteuler.net/problem=3)\n",
    "\n",
    "## Description\n",
    "\n",
    "The prime factors of 13195 are 5, 7, 13 and 29.\n",
    "\n",
    "What is the largest prime factor of the number 600851475143?"
   ]
  },
  {
   "cell_type": "markdown",
   "metadata": {},
   "source": [
    "## Solution\n",
    "The simplest algorithm for solving the problem is [trial division](https://en.wikipedia.org/wiki/Trial_division).\n",
    "\n",
    "Trial division is an integer factorisation algorithm that finds all prime factors of an integer, $n$, by finding divisors amongst smaller integers. A simple implementation of the algorithm (returning only the largest prime factor) is"
   ]
  },
  {
   "cell_type": "code",
   "execution_count": 1,
   "metadata": {},
   "outputs": [
    {
     "name": "stdout",
     "output_type": "stream",
     "text": [
      "Result for n == 13195: 29\n",
      "649 µs ± 17.2 µs per loop (mean ± std. dev. of 7 runs, 1000 loops each)\n"
     ]
    }
   ],
   "source": [
    "LOW_LIMIT = 13195\n",
    "HIGH_LIMIT = 600851475143\n",
    "\n",
    "def p003(n):\n",
    "    \"\"\"Find largest prime factor of n by trial division\"\"\"\n",
    "    factor = 2\n",
    "    while factor <= n:\n",
    "        if n % factor == 0:\n",
    "            n //= factor\n",
    "        else:\n",
    "            factor += 1\n",
    "\n",
    "    return factor\n",
    "\n",
    "print(\"Result for n == {}: {}\".format(LOW_LIMIT, p003(LOW_LIMIT)))\n",
    "\n",
    "%timeit p003(HIGH_LIMIT)"
   ]
  },
  {
   "cell_type": "markdown",
   "metadata": {},
   "source": [
    "The factors that divides `n` in line 9 are always prime. This is because if the factor was composite its prime constituents would have been divided with `n` in an earlier iteration."
   ]
  },
  {
   "cell_type": "markdown",
   "metadata": {},
   "source": [
    "## Optimisation\n",
    "\n",
    "The trial division algorithm can be optimised in a couple of ways.\n",
    "\n",
    "First, any integer, $n$, can have at most one prime factor larger than $\\sqrt{n}$, and it is therefore only necessary to test for trial factors up to $\\sqrt{n}$. Any remaining factor above $\\sqrt{n}$ will be prime (since, it would have been previously divided out otherwise).\n",
    "\n",
    "Second, the only one even prime is 2. By dividing $n$ by 2 until it becomes odd, afterwards it is only necessary to test odd trial factors, halving the number of iterations."
   ]
  },
  {
   "cell_type": "code",
   "execution_count": 2,
   "metadata": {},
   "outputs": [
    {
     "name": "stdout",
     "output_type": "stream",
     "text": [
      "Result for n == 13195: 29\n",
      "99 µs ± 2.35 µs per loop (mean ± std. dev. of 7 runs, 10000 loops each)\n"
     ]
    }
   ],
   "source": [
    "def p003(n):\n",
    "    \"\"\"Find largest prime factor of n by trial division\"\"\"\n",
    "    factor = 2\n",
    "    while n % factor == 0:\n",
    "        n //= factor\n",
    "\n",
    "    factor = 3\n",
    "    while factor*factor <= n:\n",
    "        if n % factor == 0:\n",
    "            n //= factor\n",
    "        else:\n",
    "            factor += 2\n",
    "\n",
    "    return n\n",
    "\n",
    "print(\"Result for n == {}: {}\".format(LOW_LIMIT, p003(LOW_LIMIT)))\n",
    "\n",
    "%timeit p003(HIGH_LIMIT)"
   ]
  },
  {
   "cell_type": "markdown",
   "metadata": {},
   "source": [
    "With these optimisations the runtime is improved by a factor of six."
   ]
  },
  {
   "cell_type": "markdown",
   "metadata": {},
   "source": [
    "## Conclusions\n",
    "Trial division is not generally the best algorithm to use for prime factorisation, but in cases such as the one at hand where there are only small prime factors, it performs well.\n",
    "\n",
    "For prime factorisation of larger integers it can still be advantageous to use trial division to test for divisibility by small primes before switching over to a more specialised algorithm."
   ]
  }
 ],
 "metadata": {
  "kernelspec": {
   "display_name": "Python 3",
   "language": "python",
   "name": "python3"
  },
  "language_info": {
   "codemirror_mode": {
    "name": "ipython",
    "version": 3
   },
   "file_extension": ".py",
   "mimetype": "text/x-python",
   "name": "python",
   "nbconvert_exporter": "python",
   "pygments_lexer": "ipython3",
   "version": "3.6.4"
  }
 },
 "nbformat": 4,
 "nbformat_minor": 2
}
