{
 "cells": [
  {
   "cell_type": "markdown",
   "metadata": {},
   "source": [
    "# Project Euler problem 4 - Largest palindrome product"
   ]
  },
  {
   "cell_type": "markdown",
   "metadata": {},
   "source": [
    "[Link to problem on Project Euler homepage](https://projecteuler.net/problem=4)\n",
    "\n",
    "## Description\n",
    "\n",
    "A palindromic number reads the same both ways. The largest palindrome made from the product of two 2-digit numbers is $9009 = 91 \\times 99$.\n",
    "\n",
    "Find the largest palindrome made from the product of two 3-digit numbers."
   ]
  },
  {
   "cell_type": "markdown",
   "metadata": {},
   "source": [
    "## Brute force\n",
    "In the simplest brute force solution to the problem one simply iterates over all products between 3-digit numbers to find the largest palindrome"
   ]
  },
  {
   "cell_type": "code",
   "execution_count": 1,
   "metadata": {},
   "outputs": [
    {
     "name": "stdout",
     "output_type": "stream",
     "text": [
      "Ndigits = 2\n",
      "Result for ndigit = 2: 9009\n",
      "5.07 ms ± 159 µs per loop (mean ± std. dev. of 7 runs, 100 loops each)\n",
      "\n",
      "Ndigits = 3\n",
      "647 ms ± 1.39 ms per loop (mean ± std. dev. of 7 runs, 1 loop each)\n"
     ]
    }
   ],
   "source": [
    "def get_digits(n):\n",
    "    \"\"\"get digits of a number. Return as list\"\"\"\n",
    "    digits = []\n",
    "    while True:\n",
    "        n, digit = divmod(n, 10)\n",
    "        digits.append(digit)\n",
    "        if n == 0:\n",
    "            break\n",
    "\n",
    "    return digits\n",
    "\n",
    "def is_palindrome(n):\n",
    "    \"\"\"Check if a number is a palindrome\"\"\"\n",
    "    digits = get_digits(n)\n",
    "    ln = len(digits)\n",
    "    for i in range(ln//2):\n",
    "        if digits[i] != digits[ln-1-i]:\n",
    "            return False\n",
    "    return True\n",
    "\n",
    "def p004(ndigit):\n",
    "    ulimit = 10**ndigit # upper limit\n",
    "    llimit = 10**(ndigit-1) # lower limit\n",
    "\n",
    "    mx = 0 # biggest palindrome found so far\n",
    "\n",
    "    for n1 in range(llimit, ulimit):\n",
    "        for n2 in range(n1, ulimit):\n",
    "\n",
    "            if is_palindrome(n1*n2) and n1*n2 > mx:\n",
    "                mx = n1*n2\n",
    "\n",
    "    return mx\n",
    "\n",
    "print(\"Ndigits = 2\")\n",
    "print(\"Result for ndigit = 2: {}\".format(p004(2)))\n",
    "%timeit p004(2)\n",
    "print(\"\")\n",
    "print(\"Ndigits = 3\")\n",
    "%timeit p004(3)"
   ]
  },
  {
   "cell_type": "markdown",
   "metadata": {},
   "source": [
    "## Optimisation\n",
    "\n",
    "The most obvious optimisation of the brute force solution is to iterate \"backwards\" from large to small 3-digit numbers, and to avoid iterating over products that are smaller than the largest palindrome found so far."
   ]
  },
  {
   "cell_type": "code",
   "execution_count": 2,
   "metadata": {},
   "outputs": [
    {
     "name": "stdout",
     "output_type": "stream",
     "text": [
      "Ndigits = 2\n",
      "Result for ndigit = 2: 9009\n",
      "74.1 µs ± 289 ns per loop (mean ± std. dev. of 7 runs, 10000 loops each)\n",
      "\n",
      "Ndigits = 3\n",
      "5.8 ms ± 38.1 µs per loop (mean ± std. dev. of 7 runs, 100 loops each)\n"
     ]
    }
   ],
   "source": [
    "def p004(ndigit):\n",
    "    ulimit = 10**ndigit - 1 # upper limit\n",
    "    llimit = 10**(ndigit-1) - 1 # lower limit\n",
    "\n",
    "    mx = 0 # biggest palindrome found so far\n",
    "\n",
    "    # iterate backwards to encounter largest palindrome sooner\n",
    "    for n1 in range(ulimit, llimit, -1):\n",
    "        for n2 in range(ulimit, n1-1, -1):\n",
    "\n",
    "            # if n1*n2 is smaller than largest palindrome it will continue to\n",
    "            # be so becaue n2 is decreasing\n",
    "            if n1*n2 <= mx:\n",
    "                break\n",
    "\n",
    "            if is_palindrome(n1*n2):\n",
    "                mx = n1*n2\n",
    "\n",
    "    return mx\n",
    "\n",
    "print(\"Ndigits = 2\")\n",
    "print(\"Result for ndigit = 2: {}\".format(p004(2)))\n",
    "%timeit p004(2)\n",
    "print(\"\")\n",
    "print(\"Ndigits = 3\")\n",
    "%timeit p004(3)"
   ]
  },
  {
   "cell_type": "markdown",
   "metadata": {},
   "source": [
    "This simple optimisation improves the runtime by roughly a factor of 100."
   ]
  }
 ],
 "metadata": {
  "kernelspec": {
   "display_name": "Python 3",
   "language": "python",
   "name": "python3"
  },
  "language_info": {
   "codemirror_mode": {
    "name": "ipython",
    "version": 3
   },
   "file_extension": ".py",
   "mimetype": "text/x-python",
   "name": "python",
   "nbconvert_exporter": "python",
   "pygments_lexer": "ipython3",
   "version": "3.6.4"
  }
 },
 "nbformat": 4,
 "nbformat_minor": 2
}
