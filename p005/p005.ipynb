{
 "cells": [
  {
   "cell_type": "markdown",
   "metadata": {},
   "source": [
    "# Project Euler problem 5 - Smallest multiple"
   ]
  },
  {
   "cell_type": "markdown",
   "metadata": {},
   "source": [
    "[Link to problem on Project Euler homepage](https://projecteuler.net/problem=5)\n",
    "\n",
    "## Description\n",
    "\n",
    "2520 is the smallest number that can be divided by each of the numbers from 1 to 10 without any remainder.\n",
    "\n",
    "What is the smallest positive number that is evenly divisible by all of the numbers from 1 to 20?"
   ]
  },
  {
   "cell_type": "markdown",
   "metadata": {},
   "source": [
    "## Brute force\n",
    "In the simplest brute force solution to the problem one simply iterates over all integers and does trial division until a solution is found"
   ]
  },
  {
   "cell_type": "code",
   "execution_count": 2,
   "metadata": {},
   "outputs": [
    {
     "name": "stdout",
     "output_type": "stream",
     "text": [
      "\n",
      "limit = 10\n",
      "Result for ndigit = 2: 2520\n",
      "827 µs ± 7.27 µs per loop (mean ± std. dev. of 7 runs, 1000 loops each)\n",
      "\n",
      "limit = 20\n",
      "Result for ndigit = 2: 232792560\n",
      "1min 18s ± 1.09 s per loop (mean ± std. dev. of 7 runs, 1 loop each)\n"
     ]
    }
   ],
   "source": [
    "from itertools import count\n",
    "\n",
    "def p005(k):\n",
    "    \n",
    "    for i in count(k):\n",
    "        for j in range(2, k+1):\n",
    "            if i % j != 0:\n",
    "                break\n",
    "            if j == k:\n",
    "                return i\n",
    "\n",
    "for LIMIT in [10, 20]:\n",
    "    print(\"\")\n",
    "    print(\"limit = {}\".format(LIMIT))\n",
    "    print(\"Result for ndigit = 2: {}\".format(p005(LIMIT)))\n",
    "    %timeit p005(LIMIT)"
   ]
  },
  {
   "cell_type": "markdown",
   "metadata": {},
   "source": [
    "## Optimisation\n",
    "\n",
    "One may naively think that the smallest integer divisible by all integers from 1 to $k$ is the product of all integers between 1 and $k$, also known as the factorial $k!$. However, the brute force results shown above are much smaller than the factorials ($10! = 3628800$ and $20! = 2432902008176640000$).\n",
    "\n",
    "The [Fundamental theorem of arithmetic](https://en.wikipedia.org/wiki/Fundamental_theorem_of_arithmetic) states that *every integer greater than 1 either is a prime number itself or can be represented as the product of prime numbers and that, moreover, this representation is unique*. For example the $10 = 5\\times 2$ and $12 = 2 \\times 2 \\times 3$.\n",
    "\n",
    "Thus, to find the smallest number evenly divisible by all numbers between 1 and $k$ we need the product of all prime factors such that each composite number can be generated at least once. In practice, we can achieve this by generating all primes up to $k$. For each prime, $p$, we calculate its multiplicity $n$ by requring that $p^n \\leq k$."
   ]
  },
  {
   "cell_type": "code",
   "execution_count": 3,
   "metadata": {},
   "outputs": [
    {
     "name": "stdout",
     "output_type": "stream",
     "text": [
      "\n",
      "limit = 10\n",
      "Result for ndigit = 2: 2520\n",
      "12.6 µs ± 410 ns per loop (mean ± std. dev. of 7 runs, 100000 loops each)\n",
      "\n",
      "limit = 20\n",
      "Result for ndigit = 2: 232792560\n",
      "26.3 µs ± 850 ns per loop (mean ± std. dev. of 7 runs, 10000 loops each)\n"
     ]
    }
   ],
   "source": [
    "from sympy import primerange\n",
    "from math import log\n",
    "\n",
    "def p005(k):\n",
    "    n = 1\n",
    "    for prime in list(primerange(1, k+1)):\n",
    "        exponent = int(log(k, 10)/log(prime, 10))\n",
    "        n *= prime**exponent\n",
    "    return n\n",
    "\n",
    "for LIMIT in [10, 20]:\n",
    "    print(\"\")\n",
    "    print(\"limit = {}\".format(LIMIT))\n",
    "    print(\"Result for ndigit = 2: {}\".format(p005(LIMIT)))\n",
    "    %timeit p005(LIMIT)"
   ]
  },
  {
   "cell_type": "markdown",
   "metadata": {},
   "source": [
    "The optimisation improves the runtime by more than a factor $10^6$."
   ]
  }
 ],
 "metadata": {
  "kernelspec": {
   "display_name": "Python 3",
   "language": "python",
   "name": "python3"
  },
  "language_info": {
   "codemirror_mode": {
    "name": "ipython",
    "version": 3
   },
   "file_extension": ".py",
   "mimetype": "text/x-python",
   "name": "python",
   "nbconvert_exporter": "python",
   "pygments_lexer": "ipython3",
   "version": "3.6.6"
  }
 },
 "nbformat": 4,
 "nbformat_minor": 2
}
