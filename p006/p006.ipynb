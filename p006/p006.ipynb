{
 "cells": [
  {
   "cell_type": "markdown",
   "metadata": {},
   "source": [
    "# Project Euler problem 6 - Sum square difference"
   ]
  },
  {
   "cell_type": "markdown",
   "metadata": {},
   "source": [
    "[Link to problem on Project Euler homepage](https://projecteuler.net/problem=6)\n",
    "\n",
    "## Description\n",
    "\n",
    "The sum of the squares of the first ten natural numbers is,\n",
    "\n",
    "$$1^2 + 2^2 + \\ldots + 10^2 = 385$$\n",
    "\n",
    "The square of the sum of the first ten natural numbers is,\n",
    "\n",
    "$$(1 + 2 + \\ldots + 10)^2 = 55^2 = 3025$$\n",
    "\n",
    "Hence the difference between the sum of the squares of the first ten natural numbers and the square of the sum is $3025 − 385 = 2640$.\n",
    "\n",
    "Find the difference between the sum of the squares of the first one hundred natural numbers and the square of the sum."
   ]
  },
  {
   "cell_type": "markdown",
   "metadata": {},
   "source": [
    "## Brute force\n",
    "In the simplest brute force solution to the problem one simply iterates over all integers up to the limit, calculating the sum of singles and squares. "
   ]
  },
  {
   "cell_type": "code",
   "execution_count": 1,
   "metadata": {},
   "outputs": [
    {
     "name": "stdout",
     "output_type": "stream",
     "text": [
      "\n",
      "limit = 10\n",
      "Sum square difference: 2640\n",
      "3.31 µs ± 24.7 ns per loop (mean ± std. dev. of 7 runs, 100000 loops each)\n",
      "\n",
      "limit = 100\n",
      "Sum square difference: 25164150\n",
      "30.7 µs ± 562 ns per loop (mean ± std. dev. of 7 runs, 10000 loops each)\n"
     ]
    }
   ],
   "source": [
    "def p006(n):\n",
    "    square_sum, single_sum = 0, 0\n",
    "    for k in range(1, n+1):\n",
    "        single_sum += k\n",
    "        square_sum += k**2\n",
    "    return single_sum**2 - square_sum\n",
    "\n",
    "for LIMIT in [10, 100]:\n",
    "    print(\"\")\n",
    "    print(\"limit = {}\".format(LIMIT))\n",
    "    print(\"Sum square difference: {}\".format(p006(LIMIT)))\n",
    "    %timeit p006(LIMIT)"
   ]
  },
  {
   "cell_type": "markdown",
   "metadata": {},
   "source": [
    "## Optimisation\n",
    "\n",
    "The brute force approach can be improved upon by using the fact that both the [sum](https://en.wikipedia.org/wiki/Triangular_number) and the [sum of squares](https://en.wikipedia.org/wiki/Square_pyramidal_number) of the first $n$ natural numbers have closed form solutions given as\n",
    "\n",
    "$$\n",
    "\\begin{eqnarray}\n",
    "\\sum_{k=1}^n k   &=& \\frac{n(n+1)}{2} \\\\\n",
    "\\sum_{k=1}^n k^2 &=& \\frac{n(n+1)(2n + 1)}{6}. \\\\\n",
    "\\end{eqnarray}\n",
    "$$\n",
    "\n",
    "The difference can then be written as\n",
    "\n",
    "$$\\left( \\sum_{k=1}^n k \\right)^2 - \\sum_{k=1}^n k^2 = \\frac{n^4}{4} + \\frac{n^3}{6} - \\frac{n^2}{4} - \\frac{n}{6}$$"
   ]
  },
  {
   "cell_type": "code",
   "execution_count": 3,
   "metadata": {},
   "outputs": [
    {
     "name": "stdout",
     "output_type": "stream",
     "text": [
      "\n",
      "limit = 10\n",
      "Sum square difference: 2640\n",
      "990 ns ± 3.75 ns per loop (mean ± std. dev. of 7 runs, 1000000 loops each)\n",
      "\n",
      "limit = 100\n",
      "Sum square difference: 25164150\n",
      "1.08 µs ± 31.5 ns per loop (mean ± std. dev. of 7 runs, 1000000 loops each)\n"
     ]
    }
   ],
   "source": [
    "def p006(n):\n",
    "    return int(n**4/4 + n**3/6 - n**2/4 - n/6)\n",
    "\n",
    "for LIMIT in [10, 100]:\n",
    "    print(\"\")\n",
    "    print(\"limit = {}\".format(LIMIT))\n",
    "    print(\"Sum square difference: {}\".format(p006(LIMIT)))\n",
    "    %timeit p006(LIMIT)"
   ]
  },
  {
   "cell_type": "markdown",
   "metadata": {},
   "source": [
    "For the 100 limit the runtime is improved by a factor 30."
   ]
  }
 ],
 "metadata": {
  "kernelspec": {
   "display_name": "Python 3",
   "language": "python",
   "name": "python3"
  },
  "language_info": {
   "codemirror_mode": {
    "name": "ipython",
    "version": 3
   },
   "file_extension": ".py",
   "mimetype": "text/x-python",
   "name": "python",
   "nbconvert_exporter": "python",
   "pygments_lexer": "ipython3",
   "version": "3.7.1"
  }
 },
 "nbformat": 4,
 "nbformat_minor": 2
}
