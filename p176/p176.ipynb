{
 "cells": [
  {
   "cell_type": "code",
   "execution_count": 14,
   "metadata": {},
   "outputs": [],
   "source": [
    "%matplotlib inline\n",
    "import numpy as np\n",
    "\n",
    "import matplotlib.pyplot as plt\n",
    "\n",
    "from IPython.display import set_matplotlib_formats\n",
    "set_matplotlib_formats('pdf', 'png')\n",
    "plt.rcParams['savefig.dpi'] = 75\n",
    "\n",
    "plt.rcParams['figure.autolayout'] = False\n",
    "plt.rcParams['figure.figsize'] = 10, 6\n",
    "plt.rcParams['axes.labelsize'] = 18\n",
    "plt.rcParams['axes.titlesize'] = 20\n",
    "plt.rcParams['axes.grid'] = True\n",
    "plt.rcParams['font.size'] = 16\n",
    "plt.rcParams['lines.linewidth'] = 2.0\n",
    "plt.rcParams['lines.markersize'] = 8\n",
    "plt.rcParams['legend.fontsize'] = 14\n",
    "\n",
    "plt.rcParams['text.usetex'] = True\n",
    "plt.rcParams['font.family'] = \"serif\"\n",
    "plt.rcParams['font.serif'] = \"cm\"\n",
    "plt.rcParams['text.latex.preamble'] = r\"\\usepackage{subdepth}, \\usepackage{type1cm}\""
   ]
  },
  {
   "cell_type": "markdown",
   "metadata": {},
   "source": [
    "# Project Euler problem 176 - Right-angled triangles that share a cathetus"
   ]
  },
  {
   "cell_type": "markdown",
   "metadata": {},
   "source": [
    "[Link to problem on Project Euler homepage](https://projecteuler.net/problem=176)\n",
    "\n",
    "## Description\n",
    "\n",
    "The four right-angled triangles with sides (9,12,15), (12,16,20), (5,12,13) and (12,35,37) all have one of the shorter sides (catheti) equal to 12. It can be shown that no other integer sided right-angled triangle exists with one of the catheti equal to 12.\n",
    "\n",
    "Find the smallest integer that can be the length of a cathetus of exactly 47547 different integer sided right-angled triangles."
   ]
  },
  {
   "cell_type": "markdown",
   "metadata": {},
   "source": [
    "## Analysis\n",
    "\n",
    "### Integer solutions to the difference between two square numbers\n",
    "To solve the problem, we have to find an efficient method of calculating the number of integer solutions to the Pythagorean equation, $a^2 + b^2 = c^2$, with one of the cathetii held constant. One way forward is to solve for one of the cathetii, which yields the difference of two squares, and split that into two factors\n",
    "\n",
    "$$a^2 = c^2 - b^2 = (c - b)\\times(c + b) = p\\times q,$$\n",
    "\n",
    "where\n",
    "\n",
    "$$\n",
    "\\begin{eqnarray}\n",
    "p &=& c - b \\\\\n",
    "q &=& c + b.\n",
    "\\end{eqnarray}\n",
    "$$\n",
    "\n",
    "Now, to find out if there is any kind of restriction on the factors that be written as the difference between two squares let us try to solve for $b$ and $c$\n",
    "\n",
    "$$\n",
    "\\begin{eqnarray}\n",
    "b &=& \\frac{q - p}{2} \\\\\n",
    "c &=& \\frac{p + q}{2}.\n",
    "\\end{eqnarray}\n",
    "$$\n",
    "\n",
    "For $b$ and $c$ to be integers, $p$ and $q$ need to have the same [parity](https://en.wikipedia.org/wiki/Parity_(mathematics)). Indeed, enumerating all the different ways of splitting $12^2$ into two factors we find\n",
    "\n",
    "|   $p$   |   $q$   |    $b$   |   $c$    |\n",
    "|---------|---------|----------|----------|\n",
    "|     1   |   144   |   71     |   72.5   |\n",
    "|   **2** |  **72** | **35**   | **37**   |\n",
    "|     3   |    48   |   22.5   |   25.5   |\n",
    "|   **4** |  **36** | **16**   | **20**   |\n",
    "|   **6** |  **24** |  **9**   | **15**   |\n",
    "|   **8** |  **18** |  **5**   | **13**   |\n",
    "|     9   |    16   |    3.5   |   12.5   |\n",
    "\n",
    "The rows in bold are those where $p$ and $q$ have same parity, and corredpond to the four solutions enumerated in the problem description.\n",
    "\n",
    "### Factorisation of $a^2$\n",
    "\n",
    "We now know that if $a^2$ can be written as the product between two factors, $p$ and $q$, with the same parity, then it can be written as the difference between two square numbers. The number of solutions is simply the number of unique ways that $a^2$ can be split into two factors with the same parity (we do not count the trivial case with $p=q$ which would yield $b=0$ and $a=c$). By the [Fundamental theorem of arithmetic](https://en.wikipedia.org/wiki/Fundamental_theorem_of_arithmetic) any integer can be written as a unique factorisation of prime numbers, and since $a^2$ is a square number it can be written as\n",
    "\n",
    "$$a^2 = p_1^{2n_1}p_2^{2n_2} \\cdots p_k^{2n_k},$$\n",
    "\n",
    "where $p_i$ are primes and $2n_i$ the multiplicities.\n",
    "\n",
    "The number of divisors of a square number is\n",
    "\n",
    "$$\\sigma_0 = \\prod_{i=1}^k (2n_i + 1).$$\n",
    "\n",
    "Generally, the number of ways to split a number into two factors is then $\\sigma_0/2$ since each divisor is counted twice. However, since a square number, $a^2$, has an odd number of divisors (due to the fact that $a$ divides $a^2$ twice) the number of ways to split a square number into two factors is $\\frac{\\sigma_0+1}{2}$.\n",
    "\n",
    "If all the prime numbers of the factorisation are odd, then both factors will always have odd parity and we are done. The solution is then given as\n",
    "\n",
    "$$N_\\mathrm{split} = \\frac{\\sigma_0+1}{2} - 1,$$\n",
    "\n",
    "where the subtraction of 1 is to remove the trivial case with $b=0$ and $a=c$.\n",
    "\n",
    "However, if $2$ is part of the prime factorisation we have to make sure that $2$ is part of both factors to ensure that both have odd parity. The solution then is\n",
    "\n",
    "$$N_\\mathrm{split} = \\frac{(2n_1-1)\\prod_{i=2}^k (2n_i + 1) + 1}{2} - 1,$$\n",
    "\n",
    "where $2n_1$ is the multiplicity of the first prime, $2$. This approach works because there are $n-1$ ways of distributing $n$ indistinguishable items into two groups."
   ]
  },
  {
   "cell_type": "markdown",
   "metadata": {},
   "source": [
    "## Algorithm\n",
    "\n",
    "I am going to assume that $2$ will be part of the prime factorisation of the solution, since we are looking for the smallest square number that can be written as the product of two factors with the same parity in $47547$ different ways.\n",
    "\n",
    "The simplest approach is to simply look for integer solutions for $N_\\mathrm{split} = 47547$, by brute force and then apply the found solutions to the smallest primes such that the smallest prime will have the greatest multiplicity.\n",
    "\n",
    "I am not going to attempt an analysis of how many factors are needed to find the smallest solution, but will assume that the number of unique prime factors $<10$."
   ]
  },
  {
   "cell_type": "code",
   "execution_count": 119,
   "metadata": {},
   "outputs": [],
   "source": [
    "from itertools import count\n",
    "\n",
    "def n_split(n, depth=1, max_depth=1, previous_product=1, multiplicities=None):\n",
    "    if depth == 1:\n",
    "        n = 2*(n + 1) - 1\n",
    "        multiplicities=[]\n",
    "    for i in count(1):\n",
    "        if depth == 1:\n",
    "            product = 2*i - 1 # first prime - multiplicity is 2*n - 1\n",
    "        else:\n",
    "            product = previous_product*(2*i + 1) # subsequent primes - multiplicith is 2*n + 1\n",
    "        if product > n: # break if number of splits is too high\n",
    "            break\n",
    "        if depth < max_depth:\n",
    "            yield from n_split(n, depth=depth+1,\n",
    "                                  max_depth=max_depth,\n",
    "                                  previous_product=product,\n",
    "                                  multiplicities=multiplicities+[i])\n",
    "        else:\n",
    "            if product == n:\n",
    "                yield product, multiplicities+[i]"
   ]
  },
  {
   "cell_type": "code",
   "execution_count": 130,
   "metadata": {},
   "outputs": [
    {
     "name": "stdout",
     "output_type": "stream",
     "text": [
      "96818198400000\n",
      "Time elapsed = 2.62s\n"
     ]
    }
   ],
   "source": [
    "from time import time\n",
    "\n",
    "primes = [2, 3, 5, 7, 11, 13, 17, 19, 23, 29]\n",
    "nsplit = 47547\n",
    "\n",
    "t0 = time()\n",
    "\n",
    "solution = -1\n",
    "for max_depth in range(1, 11):\n",
    "    for _, multi in n_split(nsplit, max_depth=max_depth):\n",
    "        product = 1\n",
    "        for p, m in zip(primes, multi):\n",
    "            product *= pow(p, m)\n",
    "        if solution == -1:\n",
    "            solution = product\n",
    "        elif product < solution:\n",
    "            solution = product\n",
    "\n",
    "print(\"Solution = {}\".format(solution))\n",
    "print(\"Time elapsed = {:.2f}s\".format(time()-t0))"
   ]
  }
 ],
 "metadata": {
  "kernelspec": {
   "display_name": "Python 3",
   "language": "python",
   "name": "python3"
  },
  "language_info": {
   "codemirror_mode": {
    "name": "ipython",
    "version": 3
   },
   "file_extension": ".py",
   "mimetype": "text/x-python",
   "name": "python",
   "nbconvert_exporter": "python",
   "pygments_lexer": "ipython3",
   "version": "3.7.1"
  }
 },
 "nbformat": 4,
 "nbformat_minor": 2
}
