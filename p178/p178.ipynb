{
 "cells": [
  {
   "cell_type": "markdown",
   "metadata": {},
   "source": [
    "# Project Euler problem 178 - Step Numbers\n",
    "\n",
    "[Link to problem on Project Euler homepage](https://projecteuler.net/problem=178)\n",
    "\n",
    "## Desciption\n",
    "\n",
    "Consider the number $45656$.\n",
    "\n",
    "It can be seen that each pair of consecutive digits of $45656$ has a difference of one. A number for which every pair of consecutive digits has a difference of one is called a step number. A pandigital number contains every decimal digit from $0$ to $9$ at least once. How many pandigital step numbers less than $10^{40}$ are there?\n",
    "\n",
    "## Solution\n",
    "\n",
    "It is quite simple to create a recursive algorithm that counts all step numbers up to a given length (expressed as the max number of digits)."
   ]
  },
  {
   "cell_type": "code",
   "execution_count": 1,
   "metadata": {},
   "outputs": [
    {
     "name": "stdout",
     "output_type": "stream",
     "text": [
      "starting digit = 9, length=10: 274\n",
      "starting digit = 5, length=10: 904\n"
     ]
    }
   ],
   "source": [
    "def count_step_numbers(start, length=10):\n",
    "    \"\"\"`start` is starting digit\n",
    "    `length` is max number of digits\"\"\"\n",
    "    n_step = 1\n",
    "    if length == 1: \n",
    "        return n_step # exactly one step number with length one\n",
    "    if start > 0:\n",
    "        n_step += count_step_numbers(start-1, length=length-1)\n",
    "    if start < 9:\n",
    "        n_step += count_step_numbers(start+1, length=length-1)\n",
    "    return n_step\n",
    "\n",
    "for s, l in ((9, 10), (5, 10)):\n",
    "    result = count_step_numbers(s, l)\n",
    "    print(f\"starting digit = {s}, length={l}: {result}\")"
   ]
  },
  {
   "cell_type": "markdown",
   "metadata": {},
   "source": [
    "This only gives the number of step numbers for a specific starting digit, but by adding a loop at the top of the function we can easily get the result for all starting digits. The loop excludes 0 leading zeros are omitted."
   ]
  },
  {
   "cell_type": "code",
   "execution_count": 2,
   "metadata": {},
   "outputs": [
    {
     "name": "stdout",
     "output_type": "stream",
     "text": [
      "length=1: 9\n",
      "length=2: 26\n",
      "length=3: 58\n",
      "length=4: 119\n",
      "length=5: 235\n",
      "length=6: 457\n",
      "length=7: 881\n",
      "length=8: 1694\n",
      "length=9: 3250\n",
      "length=10: 6236\n",
      "length=11: 11957\n",
      "length=12: 22939\n",
      "length=13: 43992\n",
      "length=14: 84408\n",
      "length=15: 161913\n"
     ]
    }
   ],
   "source": [
    "def count_step_numbers(start, length=10):\n",
    "    \"\"\"`start` is starting digit. If None iterate over 1 to 9\n",
    "    `length` is max number of digits\n",
    "    \"\"\"\n",
    "    if start is None:\n",
    "        return sum([count_step_numbers(n, length=length) for n in range(1, 10)])\n",
    "    n_step = 1\n",
    "    if length == 1: \n",
    "        return n_step # exactly one step number with length one\n",
    "    if start > 0:\n",
    "        n_step += count_step_numbers(start-1, length=length-1)\n",
    "    if start < 9:\n",
    "        n_step += count_step_numbers(start+1, length=length-1)\n",
    "    return n_step\n",
    "\n",
    "for l in range(1, 16):\n",
    "    result = count_step_numbers(None, l)\n",
    "    print(f\"length={l}: {result}\")"
   ]
  },
  {
   "cell_type": "markdown",
   "metadata": {},
   "source": [
    "It is easy to generalize the algorithm to only count pandigital step numbers. This could be done by passing a boolean parameter to the function for each of the ten digits. However, a key insight is that the a step number is guaranteed to be pandigital if it contains both $0$ and $9$. This is because to contain these two digits it will have had to step through all other digits."
   ]
  },
  {
   "cell_type": "code",
   "execution_count": 3,
   "metadata": {},
   "outputs": [
    {
     "name": "stdout",
     "output_type": "stream",
     "text": [
      "length=1: 0\n",
      "length=2: 0\n",
      "length=3: 0\n",
      "length=4: 0\n",
      "length=5: 0\n",
      "length=6: 0\n",
      "length=7: 0\n",
      "length=8: 0\n",
      "length=9: 0\n",
      "length=10: 1\n",
      "length=11: 4\n",
      "length=12: 18\n",
      "length=13: 55\n",
      "length=14: 172\n",
      "length=15: 459\n"
     ]
    }
   ],
   "source": [
    "def count_pandigital_step_numbers(start, length=10, seen_zero=False, seen_nine=False,):\n",
    "    \"\"\"`start` is starting digit. If None iterate over 1 to 9\n",
    "    `length` is max number of digits\n",
    "    `seen_zero` boolean to indicate that 0 is in the step number\n",
    "    `seen_nine` boolean to indicate that 9 is in the step number\n",
    "    \"\"\"\n",
    "    if start is None:\n",
    "        return sum([count_pandigital_step_numbers(n,\n",
    "                                                  length=length,\n",
    "                                                  seen_zero=seen_zero,\n",
    "                                                  seen_nine=seen_nine) \n",
    "                    for n in range(1, 10)])\n",
    "    \n",
    "    seen_zero = True if start == 0 else seen_zero\n",
    "    seen_nine = True if start == 9 else seen_nine\n",
    "    n_step = 1 if seen_zero and seen_nine else 0 # count iff step number if pandigital\n",
    "    if length == 1: \n",
    "        return n_step\n",
    "    if start > 0:\n",
    "        n_step += count_pandigital_step_numbers(start-1, length-1, seen_zero, seen_nine)\n",
    "    if start < 9:\n",
    "        n_step += count_pandigital_step_numbers(start+1, length-1, seen_zero, seen_nine)\n",
    "    return n_step\n",
    "\n",
    "for l in range(1, 16):\n",
    "    result = count_pandigital_step_numbers(None, l)\n",
    "    print(f\"length={l}: {result}\")"
   ]
  },
  {
   "cell_type": "markdown",
   "metadata": {},
   "source": [
    "A weakness of the algorithm is that the execution time grows exponentially with the number of digits. However, this can be easily solved by using [memoization](https://en.wikipedia.org/wiki/Memoization) to cache function calls, which can then be utilized later"
   ]
  },
  {
   "cell_type": "code",
   "execution_count": 4,
   "metadata": {},
   "outputs": [
    {
     "name": "stdout",
     "output_type": "stream",
     "text": [
      "Result: 126461847755\n",
      "92.9 ns ± 2.55 ns per loop (mean ± std. dev. of 7 runs, 10000000 loops each)\n"
     ]
    }
   ],
   "source": [
    "from functools import lru_cache\n",
    "\n",
    "@lru_cache(maxsize=2**20)\n",
    "def count_pandigital_step_numbers(start, length=10, seen_zero=False, seen_nine=False,):\n",
    "    \"\"\"`start` is starting digit. If None iterate over 1 to 9\n",
    "    `length` is max number of digits\n",
    "    `seen_zero` boolean to indicate that 0 is in the step number\n",
    "    `seen_nine` boolean to indicate that 9 is in the step number\n",
    "    \"\"\"\n",
    "    if start is None:\n",
    "        return sum([count_pandigital_step_numbers(n,\n",
    "                                                  length=length,\n",
    "                                                  seen_zero=seen_zero,\n",
    "                                                  seen_nine=seen_nine) \n",
    "                    for n in range(1, 10)])\n",
    "    \n",
    "    seen_zero = True if start == 0 else seen_zero\n",
    "    seen_nine = True if start == 9 else seen_nine\n",
    "    n_step = 1 if seen_zero and seen_nine else 0 # count iff step number if pandigital\n",
    "    if length == 1: \n",
    "        return n_step\n",
    "    if start > 0:\n",
    "        n_step += count_pandigital_step_numbers(start-1, length-1, seen_zero, seen_nine)\n",
    "    if start < 9:\n",
    "        n_step += count_pandigital_step_numbers(start+1, length-1, seen_zero, seen_nine)\n",
    "    return n_step\n",
    "\n",
    "print(\"Result: {}\".format(count_pandigital_step_numbers(None, 40)))\n",
    "%timeit count_pandigital_step_numbers(None, 40)"
   ]
  }
 ],
 "metadata": {
  "kernelspec": {
   "display_name": "Python 3",
   "language": "python",
   "name": "python3"
  },
  "language_info": {
   "codemirror_mode": {
    "name": "ipython",
    "version": 3
   },
   "file_extension": ".py",
   "mimetype": "text/x-python",
   "name": "python",
   "nbconvert_exporter": "python",
   "pygments_lexer": "ipython3",
   "version": "3.7.1"
  }
 },
 "nbformat": 4,
 "nbformat_minor": 2
}
