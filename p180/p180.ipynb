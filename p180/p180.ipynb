{
 "cells": [
  {
   "cell_type": "code",
   "execution_count": 14,
   "metadata": {},
   "outputs": [],
   "source": [
    "%matplotlib inline\n",
    "import numpy as np\n",
    "\n",
    "import matplotlib.pyplot as plt\n",
    "\n",
    "from IPython.display import set_matplotlib_formats\n",
    "set_matplotlib_formats('pdf', 'png')\n",
    "plt.rcParams['savefig.dpi'] = 75\n",
    "\n",
    "plt.rcParams['figure.autolayout'] = False\n",
    "plt.rcParams['figure.figsize'] = 10, 6\n",
    "plt.rcParams['axes.labelsize'] = 18\n",
    "plt.rcParams['axes.titlesize'] = 20\n",
    "plt.rcParams['axes.grid'] = True\n",
    "plt.rcParams['font.size'] = 16\n",
    "plt.rcParams['lines.linewidth'] = 2.0\n",
    "plt.rcParams['lines.markersize'] = 8\n",
    "plt.rcParams['legend.fontsize'] = 14\n",
    "\n",
    "plt.rcParams['text.usetex'] = True\n",
    "plt.rcParams['font.family'] = \"serif\"\n",
    "plt.rcParams['font.serif'] = \"cm\"\n",
    "plt.rcParams['text.latex.preamble'] = r\"\\usepackage{subdepth}, \\usepackage{type1cm}\""
   ]
  },
  {
   "cell_type": "markdown",
   "metadata": {},
   "source": [
    "# Project Euler problem 180 - Rational zeros of a function of three variables"
   ]
  },
  {
   "cell_type": "markdown",
   "metadata": {},
   "source": [
    "[Link to problem on Project Euler homepage](https://projecteuler.net/problem=180)\n",
    "\n",
    "## Description\n",
    "\n",
    "For any integer $n$, consider the three functions\n",
    "\n",
    "$$\n",
    "\\begin{eqnarray}\n",
    "f_{1,n}(x,y,z) &=& x^{n+1} + y^{n+1} − z^{n+1} \\\\\n",
    "f_{2,n}(x,y,z) &=& (xy + yz + zx) \\times (x^{n-1} + y^{n-1} − z^{n-1}) \\\\\n",
    "f_{3,n}(x,y,z) &=& xyz \\times (x^{n-2} + y^{n-2} − z^{n-2})\n",
    "\\end{eqnarray}\n",
    "$$\n",
    "\n",
    "and their combination\n",
    "\n",
    "$$f_n(x,y,z) = f_{1,n}(x,y,z) + f_{2,n}(x,y,z) − f_{3,n}(x,y,z).$$\n",
    "\n",
    "We call $(x,y,z)$ a golden triple of order $k$ if $x$, $y$, and $z$ are all rational numbers of the form $a / b$ with\n",
    "$0 < a < b \\leq k$ and there is (at least) one integer $n$, so that $f_n(x,y,z) = 0$.\n",
    "\n",
    "Let $s(x,y,z) = x + y + z$.\n",
    "\n",
    "Let $t = u / v$ be the sum of all distinct $s(x,y,z)$ for all golden triples $(x,y,z)$ of order $35$.\n",
    "\n",
    "All the $s(x,y,z)$ and $t$ must be in reduced form.\n",
    "\n",
    "Find $u + v$.\n",
    "\n",
    "## Analysis\n",
    "\n",
    "After considerable simplification we find that $f_n(x,y,z)$ is simply $x^n + y^n - z^n$. By Fermat's last theorem this has solutions for $n = -2, -1, 1, 2$ for positive rationals.\n",
    "\n",
    "## Algorithm\n",
    "\n",
    "for $x = a_x/b_x$, $y = a_y/b_y$, and $z = a_z/b_z$ we can easily brute force a solution by iterating over all values $0 < a_i < b_i \\leq k$. "
   ]
  },
  {
   "cell_type": "code",
   "execution_count": 30,
   "metadata": {},
   "outputs": [
    {
     "name": "stdout",
     "output_type": "stream",
     "text": [
      "u + v = 285196020571078987\n",
      "Time elapsed = 0h 11m 0.019866s\n"
     ]
    }
   ],
   "source": [
    "from time import time\n",
    "from itertools import product\n",
    "from fractions import Fraction\n",
    "\n",
    "t0 = time()\n",
    "\n",
    "k = 35\n",
    "\n",
    "solutions = []\n",
    "for bx, by, bz in product(range(2, k+1),repeat=3):\n",
    "    for ax, ay, az in product(range(1, bx), range(1, by), range(1, bz)):\n",
    "        if ax*by*bz + bx*ay*bz == bx*by*az: # n = 1\n",
    "            solution = True\n",
    "        elif (ax*by*bz)**2 + (bx*ay*bz)**2 == (bx*by*az)**2: # n = 2\n",
    "            solution = True\n",
    "        elif bx*ay*az + ax*by*az == ax*ay*bz: # n = -1\n",
    "            solution = True\n",
    "        elif (bx*ay*az)**2 + (ax*by*az)**2 == (ax*ay*bz)**2: # n = -2\n",
    "            solution = True\n",
    "        else:\n",
    "            solution = False\n",
    "        if solution:\n",
    "            x, y, z = Fraction(ax, bx), Fraction(ay, by), Fraction(az, bz)\n",
    "            s = x + y + z\n",
    "            if s not in solutions:\n",
    "                solutions.append(s)\n",
    "\n",
    "t = sum(solutions)\n",
    "u, v = t.numerator, t.denominator\n",
    "seconds = time() - t0\n",
    "\n",
    "minutes, seconds = divmod(seconds, 60)\n",
    "hours, minutes = divmod(minutes, 60)\n",
    "\n",
    "print(\"u + v = {}\".format(u+v))\n",
    "print(\"Time elapsed = {:.0f}h {:.0f}m {:f}s\".format(hours, minutes, seconds))"
   ]
  },
  {
   "cell_type": "markdown",
   "metadata": {},
   "source": [
    "The algorithm runs in roughly 11 minutes in python, and 15 "
   ]
  },
  {
   "cell_type": "code",
   "execution_count": 29,
   "metadata": {},
   "outputs": [
    {
     "data": {
      "text/plain": [
       "285196020571078987"
      ]
     },
     "execution_count": 29,
     "metadata": {},
     "output_type": "execute_result"
    }
   ],
   "source": [
    "x.numerator+x.denominator"
   ]
  },
  {
   "cell_type": "code",
   "execution_count": null,
   "metadata": {},
   "outputs": [],
   "source": []
  }
 ],
 "metadata": {
  "kernelspec": {
   "display_name": "Python 3",
   "language": "python",
   "name": "python3"
  },
  "language_info": {
   "codemirror_mode": {
    "name": "ipython",
    "version": 3
   },
   "file_extension": ".py",
   "mimetype": "text/x-python",
   "name": "python",
   "nbconvert_exporter": "python",
   "pygments_lexer": "ipython3",
   "version": "3.7.1"
  }
 },
 "nbformat": 4,
 "nbformat_minor": 2
}
