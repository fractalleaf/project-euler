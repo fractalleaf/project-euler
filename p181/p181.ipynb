{
 "cells": [
  {
   "cell_type": "markdown",
   "metadata": {},
   "source": [
    "# Project Euler problem 181 - Investigating in how many ways objects of two different colours can be grouped\n",
    "\n",
    "[Link to problem on Project Euler homepage](https://projecteuler.net/problem=181)\n",
    "\n",
    "## Description\n",
    "\n",
    "Having three black objects B and one white object W they can be grouped in 7 ways like this:\n",
    "\n",
    "(BBBW) (B,BBW) (B,B,BW) (B,B,B,W) (B,BB,W) (BBB,W) (BB,BW)\n",
    "\n",
    "In how many ways can sixty black objects B and forty white objects W be thus grouped?"
   ]
  },
  {
   "cell_type": "code",
   "execution_count": 1,
   "metadata": {},
   "outputs": [],
   "source": [
    "from functools import lru_cache\n",
    "from time import time\n",
    "\n",
    "N_BLACK, N_WHITE = 60, 40\n",
    "\n",
    "def calculate_order(nb, nw):\n",
    "    return nb*(N_WHITE+1) + nw\n",
    "\n",
    "@lru_cache(maxsize=2**20)\n",
    "def n_double_partition(n_black, n_white, porder=None):\n",
    "    if n_black == 0 and n_white == 0:\n",
    "        return 1\n",
    "\n",
    "    porder = calculate_order(n_black, n_white) if porder is None else porder\n",
    "    \n",
    "    total = 0\n",
    "    for black in range(n_black, -1, -1):\n",
    "        for white in range(n_white, -1, -1):\n",
    "            if black == 0 and white == 0:\n",
    "                continue\n",
    "            order = calculate_order(black, white)\n",
    "            if order > porder:\n",
    "                continue\n",
    "            tup = (black, white)\n",
    "            total += n_double_partition(n_black-black, n_white-white, porder=order)\n",
    "    \n",
    "    return total"
   ]
  },
  {
   "cell_type": "code",
   "execution_count": 2,
   "metadata": {},
   "outputs": [
    {
     "name": "stdout",
     "output_type": "stream",
     "text": [
      "Result: 83735848679360680\n",
      "Time elapsed = 0h 1m 23.564648s\n"
     ]
    }
   ],
   "source": [
    "t0 = time()\n",
    "result = n_double_partition(N_BLACK, N_WHITE)\n",
    "seconds = time() - t0\n",
    "\n",
    "minutes, seconds = divmod(seconds, 60)\n",
    "hours, minutes = divmod(minutes, 60)\n",
    "\n",
    "print(f\"Result: {result}\")\n",
    "print(\"Time elapsed = {:.0f}h {:.0f}m {:f}s\".format(hours, minutes, seconds))"
   ]
  }
 ],
 "metadata": {
  "kernelspec": {
   "display_name": "Python 3",
   "language": "python",
   "name": "python3"
  },
  "language_info": {
   "codemirror_mode": {
    "name": "ipython",
    "version": 3
   },
   "file_extension": ".py",
   "mimetype": "text/x-python",
   "name": "python",
   "nbconvert_exporter": "python",
   "pygments_lexer": "ipython3",
   "version": "3.7.1"
  }
 },
 "nbformat": 4,
 "nbformat_minor": 2
}
