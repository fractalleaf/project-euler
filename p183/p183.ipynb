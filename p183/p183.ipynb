{
 "cells": [
  {
   "cell_type": "markdown",
   "metadata": {},
   "source": [
    "# Project Euler problem 183 - Maximum product of parts\n",
    "\n",
    "[Link to problem on Project Euler homepage](https://projecteuler.net/problem=183)\n",
    "\n",
    "## Description\n",
    "\n",
    "Let $N$ be a positive integer and let $N$ be split into $k$ equal parts, $r = N/k$, so that $N = r + r + \\ldots + r$. Let $P$ be the product of these parts, $P = r \\times r \\times \\ldots \\times r = r^k$.\n",
    "\n",
    "For example, if $11$ is split into five equal parts, $11 = 2.2 + 2.2 + 2.2 + 2.2 + 2.2$, then $P = 2.25 = 51.53632$.\n",
    "\n",
    "Let $M(N) = P_\\mathrm{max}$ for a given value of $N$.\n",
    "\n",
    "It turns out that the maximum for $N = 11$ is found by splitting eleven into four equal parts which leads to $P_\\mathrm{max} = (11/4)^4$; that is, $M(11) = 14641/256 = 57.19140625$, which is a terminating decimal.\n",
    "\n",
    "However, for $N = 8$ the maximum is achieved by splitting it into three equal parts, so $M(8) = 512/27$, which is a non-terminating decimal.\n",
    "\n",
    "Let $D(N) = N$ if $M(N)$ is a non-terminating decimal and $D(N) = -N$ if $M(N)$ is a terminating decimal.\n",
    "\n",
    "For example, $\\sum D(N)$ for $5 \\leq N \\leq 100$ is $2438$.\n",
    "\n",
    "Find $\\sum D(N)$ for $5 \\leq N \\leq 10000$."
   ]
  },
  {
   "cell_type": "code",
   "execution_count": 9,
   "metadata": {},
   "outputs": [
    {
     "name": "stdout",
     "output_type": "stream",
     "text": [
      "Result: 48861552\n",
      "Time elapsed = 0h 0m 0.008227s\n"
     ]
    }
   ],
   "source": [
    "from math import e, gcd\n",
    "from time import time\n",
    "\n",
    "t0 = time()\n",
    "\n",
    "limit = 10**4\n",
    "\n",
    "result = 0\n",
    "for n in range(5, limit+1):\n",
    "    #f(k) = (n/k)**k has maximum at k = n/e\n",
    "    k = round(n/e)\n",
    "    \n",
    "    denom = k // gcd(n, k)\n",
    "    \n",
    "    # terminating decimals only have prime factors 2 and 5\n",
    "    # do trial division\n",
    "    while denom % 2 == 0: denom //= 2\n",
    "    while denom % 5 == 0: denom //= 5\n",
    "    \n",
    "    result += -n if denom == 1 else n\n",
    "\n",
    "seconds = time() - t0\n",
    "\n",
    "minutes, seconds = divmod(seconds, 60)\n",
    "hours, minutes = divmod(minutes, 60)\n",
    "\n",
    "print(f\"Result: {result}\")\n",
    "print(\"Time elapsed = {:.0f}h {:.0f}m {:f}s\".format(hours, minutes, seconds))"
   ]
  },
  {
   "cell_type": "code",
   "execution_count": null,
   "metadata": {},
   "outputs": [],
   "source": []
  }
 ],
 "metadata": {
  "kernelspec": {
   "display_name": "Python 3",
   "language": "python",
   "name": "python3"
  },
  "language_info": {
   "codemirror_mode": {
    "name": "ipython",
    "version": 3
   },
   "file_extension": ".py",
   "mimetype": "text/x-python",
   "name": "python",
   "nbconvert_exporter": "python",
   "pygments_lexer": "ipython3",
   "version": "3.7.1"
  }
 },
 "nbformat": 4,
 "nbformat_minor": 2
}
