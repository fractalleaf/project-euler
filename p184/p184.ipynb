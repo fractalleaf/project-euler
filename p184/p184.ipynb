{
 "cells": [
  {
   "cell_type": "markdown",
   "metadata": {},
   "source": [
    "# Project Euler problem 184 - Triangles containing the origin\n",
    "\n",
    "[Link to problem on Project Euler homepage](https://projecteuler.net/problem=184)\n",
    "\n",
    "## Description\n",
    "\n",
    "Consider the set $I_r$ of points $(x,y)$ with integer co-ordinates in the interior of the circle with radius $r$, centered at the origin, i.e. $x^2 + y^2 < r^2$.\n",
    "\n",
    "For a radius of 2, $I_2$ contains the nine points (0,0), (1,0), (1,1), (0,1), (-1,1), (-1,0), (-1,-1), (0,-1) and (1,-1). There are eight triangles having all three vertices in $I_2$ which contain the origin in the interior. Two of them are shown below, the others are obtained from these by rotation.\n",
    "\n",
    "![](p184.gif)\n",
    "\n",
    "For a radius of 3, there are $360$ triangles containing the origin in the interior and having all vertices in $I_3$ and for $I_5$ the number is $10600$.\n",
    "\n",
    "How many triangles are there containing the origin in the interior and having all three vertices in $I_{105}$?"
   ]
  },
  {
   "cell_type": "code",
   "execution_count": 65,
   "metadata": {},
   "outputs": [],
   "source": [
    "from time import time\n",
    "\n",
    "def time_elapsed(t):\n",
    "    seconds = time() - t\n",
    "    \n",
    "    minutes, seconds = divmod(seconds, 60)\n",
    "    hours, minutes = divmod(minutes, 60)\n",
    "    \n",
    "    return \"{:.0f}h {:.0f}m {:f}s\".format(hours, minutes, seconds)"
   ]
  },
  {
   "cell_type": "code",
   "execution_count": 67,
   "metadata": {},
   "outputs": [
    {
     "name": "stdout",
     "output_type": "stream",
     "text": [
      "0 25 0h 0m 0.000386s\n",
      "1 25 0h 0m 0.001274s\n",
      "2 25 0h 0m 0.001522s\n",
      "3 25 0h 0m 0.001754s\n",
      "4 25 0h 0m 0.001980s\n",
      "5 25 0h 0m 0.002166s\n",
      "6 25 0h 0m 0.002362s\n",
      "7 25 0h 0m 0.002963s\n",
      "8 25 0h 0m 0.003578s\n",
      "9 25 0h 0m 0.004090s\n",
      "10 25 0h 0m 0.004548s\n",
      "Result: 360\n",
      "Time elapsed = 0h 0m 0.006553s\n"
     ]
    }
   ],
   "source": [
    "from time import time\n",
    "\n",
    "t0 = time()\n",
    "\n",
    "r_max = 3\n",
    "\n",
    "grid = []\n",
    "i0, i = 0, 0\n",
    "for y in range(-r_max, r_max+1):\n",
    "    for x in range(-r_max, r_max+1):\n",
    "        if x**2 + y**2 < r_max**2:\n",
    "            if x == y == 0:\n",
    "                i0 = i\n",
    "            grid.append((x, y))\n",
    "            i += 1\n",
    "\n",
    "total = 0\n",
    "n = len(grid)\n",
    "for i in range(n):\n",
    "    print(i, len(grid), time_elapsed(t0))\n",
    "    a_1, a_2 = grid[i]\n",
    "    if a_2 >= 0:\n",
    "        break\n",
    "    for j in range(i+1, n):\n",
    "        b_1, b_2 = grid[j]\n",
    "        x = a_1*b_2 - a_2*b_1\n",
    "        if x == 0:\n",
    "            continue\n",
    "        x = x > 0\n",
    "        for k in range(max(j+1, i0), n):\n",
    "            c_1, c_2 = grid[k]\n",
    "            y = b_1*c_2 - b_2*c_1\n",
    "            if y == 0:\n",
    "                continue\n",
    "            y = y > 0\n",
    "            z = c_1*a_2 - c_2*a_1\n",
    "            if z == 0:\n",
    "                continue\n",
    "            z = z > 0\n",
    "            if x == y and x == z:\n",
    "                total += 1\n",
    "\n",
    "print(\"Result: {}\".format(total))\n",
    "print(\"Time elapsed = {}\".format(time_elapsed(t0)))"
   ]
  },
  {
   "cell_type": "markdown",
   "metadata": {},
   "source": [
    "Brute-force solutions. Takes approximately two days to run, even with pypy"
   ]
  },
  {
   "cell_type": "code",
   "execution_count": null,
   "metadata": {},
   "outputs": [],
   "source": []
  }
 ],
 "metadata": {
  "kernelspec": {
   "display_name": "Python 3",
   "language": "python",
   "name": "python3"
  },
  "language_info": {
   "codemirror_mode": {
    "name": "ipython",
    "version": 3
   },
   "file_extension": ".py",
   "mimetype": "text/x-python",
   "name": "python",
   "nbconvert_exporter": "python",
   "pygments_lexer": "ipython3",
   "version": "3.7.1"
  }
 },
 "nbformat": 4,
 "nbformat_minor": 2
}
