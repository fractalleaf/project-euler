{
 "cells": [
  {
   "cell_type": "code",
   "execution_count": 1,
   "metadata": {},
   "outputs": [],
   "source": [
    "from time import time\n",
    "\n",
    "def time_elapsed(t):\n",
    "    seconds = time() - t\n",
    "    \n",
    "    minutes, seconds = divmod(seconds, 60)\n",
    "    hours, minutes = divmod(minutes, 60)\n",
    "    \n",
    "    return \"{:.0f}h {:.0f}m {:f}s\".format(hours, minutes, seconds)"
   ]
  },
  {
   "cell_type": "markdown",
   "metadata": {},
   "source": [
    "# Project Euler problem 186 - Connectedness of a network\n",
    "\n",
    "[Link to problem on Project Euler homepage](https://projecteuler.net/problem=186)\n",
    "\n",
    "## Description\n",
    "\n",
    "Here are the records from a busy telephone system with one million users:\n",
    "\n",
    "| RecNr | Caller | Called |\n",
    "|:-----:|:------:|:------:|\n",
    "| 1     | 200007 | 100053 |\n",
    "| 2     | 600183 | 500439 |\n",
    "| 3     | 600863 | 701497 |\n",
    "| ...   | ...    | ...    |\n",
    "\n",
    "The telephone number of the caller and the called number in record $n$ are $\\mathrm{Caller}(n) = S_{2n-1}$ and $\\mathrm{Called}(n) = S_{2n}$ where $S_{1,2,3,\\ldots}$ come from the \"Lagged Fibonacci Generator\":\n",
    "\n",
    "$$\n",
    "\\begin{eqnarray}\n",
    "S_k &=& [100003 - 200003k + 300007k^3] \\mod 1000000 &,& 1 \\leq k \\leq 55 \\\\\n",
    "S_k &=& [S_{k-24} + S_{k-55}] \\mod 1000000 &,& 56 \\leq k\n",
    "\\end{eqnarray}\n",
    "$$\n",
    "\n",
    "If $\\mathrm{Caller}(n) = \\mathrm{Called}(n)$ then the user is assumed to have misdialled and the call fails; otherwise the call is successful.\n",
    "\n",
    "From the start of the records, we say that any pair of users X and Y are friends if X calls Y or vice-versa. Similarly, X is a friend of a friend of Z if X is a friend of Y and Y is a friend of Z; and so on for longer chains.\n",
    "\n",
    "The Prime Minister's phone number is 524287. After how many successful calls, not counting misdials, will 99% of the users (including the PM) be a friend, or a friend of a friend etc., of the Prime Minister?"
   ]
  },
  {
   "cell_type": "code",
   "execution_count": 3,
   "metadata": {},
   "outputs": [
    {
     "name": "stdout",
     "output_type": "stream",
     "text": [
      "200007\n",
      "100053\n",
      "600183\n"
     ]
    }
   ],
   "source": [
    "from functools import lru_cache\n",
    "\n",
    "@lru_cache(maxsize=2**8)\n",
    "def S(k, mod=10**6):\n",
    "    if k >= 56:\n",
    "        return (S(k-24) + S(k-55)) % mod\n",
    "    else:\n",
    "        return (100003 - 200003*k + 300007*k**3) % mod\n",
    "\n",
    "print(S(1))\n",
    "print(S(2))\n",
    "print(S(3))"
   ]
  },
  {
   "cell_type": "code",
   "execution_count": 4,
   "metadata": {},
   "outputs": [
    {
     "name": "stdout",
     "output_type": "stream",
     "text": [
      "(200007, 100053)\n",
      "(600183, 500439)\n",
      "(600863, 701497)\n"
     ]
    }
   ],
   "source": [
    "from itertools import count\n",
    "\n",
    "def call_generator(mod=10**6):\n",
    "    for n in count(1):\n",
    "        caller = S(2*n-1, mod=mod)\n",
    "        called = S(2*n, mod=mod)\n",
    "        if caller != called:\n",
    "            yield caller, called\n",
    "\n",
    "gen = call_generator()\n",
    "\n",
    "print(next(gen))\n",
    "print(next(gen))\n",
    "print(next(gen))"
   ]
  },
  {
   "cell_type": "code",
   "execution_count": 5,
   "metadata": {},
   "outputs": [],
   "source": [
    "class Node:\n",
    "    \"\"\"Node in disjoint set data structure\"\"\"\n",
    "\n",
    "    def __init__(self, id):\n",
    "\n",
    "        self.id = id\n",
    "        self.parent = self\n",
    "        self.rank = 0\n",
    "        self.size = 1\n",
    "\n",
    "    def find(self):\n",
    "        \"\"\"find by path halving\"\"\"\n",
    "        x = self\n",
    "        while x.parent != x:\n",
    "            x.parent = x.parent.parent\n",
    "            x = x.parent\n",
    "        return x\n",
    "\n",
    "def union(x, y):\n",
    "    x_root = x.find()\n",
    "    y_root = y.find()\n",
    "\n",
    "    # x and y are already in the same set\n",
    "    if x_root == y_root:\n",
    "        return\n",
    "\n",
    "    # x and y are not in same set, so we merge them\n",
    "    if x_root.size < y_root.size:\n",
    "        x_root, y_root = y_root, x_root # swap xRoot and yRoot\n",
    "\n",
    "    # merge yRoot into xRoot\n",
    "    y_root.parent = x_root\n",
    "    x_root.size = x_root.size + y_root.size"
   ]
  },
  {
   "cell_type": "code",
   "execution_count": 10,
   "metadata": {},
   "outputs": [
    {
     "name": "stdout",
     "output_type": "stream",
     "text": [
      "Result: 2325629\n",
      "Time elapsed = 0h 0m 12.654385s\n"
     ]
    }
   ],
   "source": [
    "limit = 10**6\n",
    "pm_id = 524287\n",
    "\n",
    "t0 = time()\n",
    "\n",
    "goal = limit - limit//100\n",
    "\n",
    "callers = [Node(i) for i in range(limit)]\n",
    "\n",
    "cg = call_generator()\n",
    "\n",
    "ncalls = 0\n",
    "pm_size = 1\n",
    "while pm_size < goal:\n",
    "    caller_id, called_id = next(cg)\n",
    "    ncalls += 1\n",
    "    \n",
    "    union(callers[caller_id], callers[called_id])\n",
    "    \n",
    "    pm_size = callers[pm_id].find().size\n",
    "\n",
    "print(\"Result: {}\".format(ncalls))\n",
    "print(\"Time elapsed = {}\".format(time_elapsed(t0)))"
   ]
  }
 ],
 "metadata": {
  "kernelspec": {
   "display_name": "Python 3",
   "language": "python",
   "name": "python3"
  },
  "language_info": {
   "codemirror_mode": {
    "name": "ipython",
    "version": 3
   },
   "file_extension": ".py",
   "mimetype": "text/x-python",
   "name": "python",
   "nbconvert_exporter": "python",
   "pygments_lexer": "ipython3",
   "version": "3.7.1"
  }
 },
 "nbformat": 4,
 "nbformat_minor": 2
}
