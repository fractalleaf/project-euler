{
 "cells": [
  {
   "cell_type": "markdown",
   "metadata": {},
   "source": [
    "# Project Euler problem 187 - Semiprimes\n",
    "\n",
    "[Link to problem on Project Euler homepage](https://projecteuler.net/problem=185)\n",
    "\n",
    "## Description\n",
    "\n",
    "A composite is a number containing at least two prime factors. For example, $15 = 3 \\times 5$; $9 = 3 \\times 3$; $12 = 2 \\times 2 \\times 3$.\n",
    "\n",
    "There are ten composites below thirty containing precisely two, not necessarily distinct, prime factors: $4, 6, 9, 10, 14, 15, 21, 22, 25, 26$.\n",
    "\n",
    "How many composite integers, $n < 10^8$, have precisely two, not necessarily distinct, prime factors?"
   ]
  },
  {
   "cell_type": "code",
   "execution_count": 26,
   "metadata": {},
   "outputs": [
    {
     "name": "stdout",
     "output_type": "stream",
     "text": [
      "Total: 17427258\n",
      "Time elapsed = 0h 0m 3.528187s\n"
     ]
    }
   ],
   "source": [
    "import sympy\n",
    "from time import time\n",
    "from math import sqrt\n",
    "\n",
    "t0 = time()\n",
    "\n",
    "limit = 30\n",
    "limit = 10**8\n",
    "\n",
    "primes = list(sympy.sieve.primerange(1, limit))\n",
    "\n",
    "total = 0\n",
    "while len(primes) > 0:\n",
    "    prime = primes.pop(0)\n",
    "    if prime > sqrt(limit):\n",
    "        break\n",
    "    \n",
    "    max_val = limit // prime\n",
    "    \n",
    "    primes = list(filter(lambda x: x <= max_val, primes))\n",
    "    \n",
    "    total += len(primes) + 1\n",
    "\n",
    "seconds = time() - t0\n",
    "\n",
    "minutes, seconds = divmod(seconds, 60)\n",
    "hours, minutes = divmod(minutes, 60)\n",
    "print(f\"Total: {total}\")\n",
    "print(\"Time elapsed = {:.0f}h {:.0f}m {:f}s\".format(hours, minutes, seconds))"
   ]
  }
 ],
 "metadata": {
  "kernelspec": {
   "display_name": "Python 3",
   "language": "python",
   "name": "python3"
  },
  "language_info": {
   "codemirror_mode": {
    "name": "ipython",
    "version": 3
   },
   "file_extension": ".py",
   "mimetype": "text/x-python",
   "name": "python",
   "nbconvert_exporter": "python",
   "pygments_lexer": "ipython3",
   "version": "3.7.1"
  }
 },
 "nbformat": 4,
 "nbformat_minor": 2
}
