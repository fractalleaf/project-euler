{
 "cells": [
  {
   "cell_type": "markdown",
   "metadata": {},
   "source": [
    "# Project Euler problem 188 - The hyperexponentiation of a number\n",
    "\n",
    "[Link to problem on Project Euler homepage](https://projecteuler.net/problem=188)\n",
    "\n",
    "## Description\n",
    "\n",
    "The *hyperexponentiation* or tetration of a number $a$ by a positive integer $b$, denoted by $a\\uparrow\\uparrow b$ or $^ba$, is recursively defined by:\n",
    "\n",
    "$$\n",
    "\\begin{eqnarray}\n",
    "a\\uparrow\\uparrow 1 &=& a, \\\\\n",
    "a\\uparrow\\uparrow (k+1) &=& a^{a\\uparrow\\uparrow k}.\n",
    "\\end{eqnarray}\n",
    "$$\n",
    "\n",
    "Thus we have e.g. $3\\uparrow\\uparrow 2 = 3^3 = 27$, hence $3\\uparrow\\uparrow 3 = 3^{27} = 7625597484987$ and $3\\uparrow\\uparrow 4$ is roughly $10^{3.6383346400240996\\times 10^{12}}$.\n",
    "\n",
    "Find the last 8 digits of $1777\\uparrow\\uparrow 1855$."
   ]
  },
  {
   "cell_type": "code",
   "execution_count": 15,
   "metadata": {},
   "outputs": [
    {
     "name": "stdout",
     "output_type": "stream",
     "text": [
      "27\n",
      "7625597484987\n"
     ]
    }
   ],
   "source": [
    "def hyperexp(a, k, mod=None):\n",
    "    if k == 1:\n",
    "        return a\n",
    "    else:\n",
    "        if mod is None:\n",
    "            return pow(a, hyperexp(a, k-1))\n",
    "        else:\n",
    "            return pow(a, hyperexp(a, k-1, mod), mod)\n",
    "\n",
    "print(hyperexp(3, 2))\n",
    "print(hyperexp(3, 3))"
   ]
  },
  {
   "cell_type": "code",
   "execution_count": 16,
   "metadata": {},
   "outputs": [
    {
     "name": "stdout",
     "output_type": "stream",
     "text": [
      "Result: 95962097\n",
      "Time elapsed = 0h 0m 0.014627s\n"
     ]
    }
   ],
   "source": [
    "from time import time\n",
    "\n",
    "t0 = time()\n",
    "\n",
    "mod = 10**8\n",
    "\n",
    "result = hyperexp(1777, 1855, mod)\n",
    "\n",
    "seconds = time() - t0\n",
    "\n",
    "minutes, seconds = divmod(seconds, 60)\n",
    "hours, minutes = divmod(minutes, 60)\n",
    "\n",
    "print(f\"Result: {result}\")\n",
    "print(\"Time elapsed = {:.0f}h {:.0f}m {:f}s\".format(hours, minutes, seconds))"
   ]
  },
  {
   "cell_type": "code",
   "execution_count": null,
   "metadata": {},
   "outputs": [],
   "source": []
  }
 ],
 "metadata": {
  "kernelspec": {
   "display_name": "Python 3",
   "language": "python",
   "name": "python3"
  },
  "language_info": {
   "codemirror_mode": {
    "name": "ipython",
    "version": 3
   },
   "file_extension": ".py",
   "mimetype": "text/x-python",
   "name": "python",
   "nbconvert_exporter": "python",
   "pygments_lexer": "ipython3",
   "version": "3.7.1"
  }
 },
 "nbformat": 4,
 "nbformat_minor": 2
}
