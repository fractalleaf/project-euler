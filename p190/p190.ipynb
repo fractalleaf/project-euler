{
 "cells": [
  {
   "cell_type": "markdown",
   "metadata": {},
   "source": [
    "# Project Euler problem 190 - Maximising a weighted product\n",
    "\n",
    "[Link to problem on Project Euler homepage](https://projecteuler.net/problem=190)\n",
    "\n",
    "## Description\n",
    "\n",
    "Let $S_\\mathrm{m} = (x_1, x_2, \\ldots , x_m)$ be the m-tuple of positive real numbers with $x_1 + x_2 + \\ldots + x_m = m$ for which $P_m = x_1 \\times x_2^2 \\times \\ldots \\times x_m^m$ is maximised.\n",
    "\n",
    "For example, it can be verified that $[ P_{10}] = 4112$ ($[ \\, ]$ is the integer part function).\n",
    "\n",
    "Find $\\sum [P_m]$ for $2 \\leq m \\leq 15$.\n",
    "\n",
    "## Solution\n",
    "\n",
    "The problem can be solved using [Lagrange multipliers](https://en.wikipedia.org/wiki/Lagrange_multiplier). Lagrange multipliers optimize a function $f$ subject to a constraint $g$. The problem can be written as $f(\\mathbf{x}) - \\lambda g(\\mathbf{x}) = 0$. In our case $f$ and $g$ (and their partial derivatives) can be written as:\n",
    "\n",
    "$$\n",
    "\\begin{eqnarray}\n",
    "f(x_1, x_2, \\ldots, x_m) &=& \\prod_{i=1}^m x_i^i \\\\\n",
    "g(x_1, x_2, \\ldots, x_m) &=& \\left( \\sum_{i=1}^m x_i \\right) -m \\\\\n",
    "\\frac{\\partial f}{\\partial x_i} &=& i\\frac{f(x_1, x_2, \\ldots, x_m)}{x_i} \\\\\n",
    "\\frac{\\partial g}{\\partial x_i} &=& 1\n",
    "\\end{eqnarray}\n",
    "$$\n",
    "\n",
    "The lagrange multiplier gives a system of $m+1$ equations to solve. One equation is the constraint $\\sum_{i=1}^m x_i = m$, and the remaining $m$ comes from equating the partial derivatives with one-another.\n",
    "\n",
    "$$\n",
    "\\frac{\\partial f}{\\partial x_i} = \\lambda \\frac{\\partial g}{\\partial x_i} \\\\\n",
    "\\Downarrow \\\\\n",
    "i\\frac{f(x_1, x_2, \\ldots, x_m)}{x_i} = \\lambda \\\\\n",
    "\\Updownarrow \\\\\n",
    "x_i = i\\frac{f(x_1, x_2, \\ldots, x_m)}{\\lambda}\n",
    "$$\n",
    "\n",
    "Adding the $m$ equations above we get\n",
    "\n",
    "$$\\sum_{i=1}^m x_i = m = \\frac{f(x_1, x_2, \\ldots, x_m)}{\\lambda} \\sum_{i=1}^m i = \\frac{f(x_1, x_2, \\ldots, x_m)}{\\lambda} \\frac{m(m+1)}{2}$$\n",
    "\n",
    "This can be solved for $\\lambda$ to give\n",
    "\n",
    "$$\\lambda = f(x_1, x_2, \\ldots, x_m)\\frac{(m+1)}{2}$$\n",
    "\n",
    "Finally, the value for $\\lambda$ can be inserted into the equation, where the partial derivatives equated, and solved for $x_i$\n",
    "\n",
    "$$x_i = i\\frac{2}{m+1}$$\n",
    "\n",
    "Now that we know all $x_i$, it is a simple matter to find $P_m$."
   ]
  },
  {
   "cell_type": "code",
   "execution_count": 100,
   "metadata": {},
   "outputs": [
    {
     "name": "stdout",
     "output_type": "stream",
     "text": [
      "4112\n"
     ]
    }
   ],
   "source": [
    "from time import time\n",
    "\n",
    "def Pm(m):\n",
    "    l = 2/(m+1)\n",
    "    prod = 1\n",
    "    for i in range(1, m+1):\n",
    "        prod *= (i*l)**i\n",
    "    return int(prod)\n",
    "\n",
    "print(Pm(10))"
   ]
  },
  {
   "cell_type": "code",
   "execution_count": 101,
   "metadata": {},
   "outputs": [
    {
     "name": "stdout",
     "output_type": "stream",
     "text": [
      "Result: 371048281\n",
      "Time elapsed = 0h 0m 0.000135s\n"
     ]
    }
   ],
   "source": [
    "from time import time\n",
    "\n",
    "t0 = time()\n",
    "\n",
    "total = 0\n",
    "for m in range(2, 16):\n",
    "    total += Pm(m)\n",
    "\n",
    "seconds = time() - t0\n",
    "\n",
    "minutes, seconds = divmod(seconds, 60)\n",
    "hours, minutes = divmod(minutes, 60)\n",
    "\n",
    "print(\"Result: {}\".format(total))\n",
    "print(\"Time elapsed = {:.0f}h {:.0f}m {:f}s\".format(hours, minutes, seconds))"
   ]
  }
 ],
 "metadata": {
  "kernelspec": {
   "display_name": "Python 3",
   "language": "python",
   "name": "python3"
  },
  "language_info": {
   "codemirror_mode": {
    "name": "ipython",
    "version": 3
   },
   "file_extension": ".py",
   "mimetype": "text/x-python",
   "name": "python",
   "nbconvert_exporter": "python",
   "pygments_lexer": "ipython3",
   "version": "3.7.1"
  }
 },
 "nbformat": 4,
 "nbformat_minor": 2
}
