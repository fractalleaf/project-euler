{
 "cells": [
  {
   "cell_type": "markdown",
   "metadata": {},
   "source": [
    "# Project Euler problem 191 - Prize Strings\n",
    "\n",
    "[Link to problem on Project Euler homepage](https://projecteuler.net/problem=191)\n",
    "\n",
    "## Description\n",
    "\n",
    "A particular school offers cash rewards to children with good attendance and punctuality. If they are absent for three consecutive days or late on more than one occasion then they forfeit their prize.\n",
    "\n",
    "During an n-day period a trinary string is formed for each child consisting of L's (late), O's (on time), and A's (absent).\n",
    "\n",
    "Although there are eighty-one trinary strings for a 4-day period that can be formed, exactly forty-three strings would lead to a prize:\n",
    "\n",
    "OOOO OOOA OOOL OOAO OOAA OOAL OOLO OOLA OAOO OAOA\n",
    "OAOL OAAO OAAL OALO OALA OLOO OLOA OLAO OLAA AOOO\n",
    "AOOA AOOL AOAO AOAA AOAL AOLO AOLA AAOO AAOA AAOL\n",
    "AALO AALA ALOO ALOA ALAO ALAA LOOO LOOA LOAO LOAA\n",
    "LAOO LAOA LAAO\n",
    "\n",
    "How many \"prize\" strings exist over a 30-day period?"
   ]
  },
  {
   "cell_type": "code",
   "execution_count": 1,
   "metadata": {},
   "outputs": [
    {
     "name": "stdout",
     "output_type": "stream",
     "text": [
      "1918080160\n",
      "94.7 ns ± 1.27 ns per loop (mean ± std. dev. of 7 runs, 10000000 loops each)\n"
     ]
    }
   ],
   "source": [
    "from functools import lru_cache\n",
    "\n",
    "limit = 30\n",
    "\n",
    "@lru_cache(maxsize=2**20)\n",
    "def count_prize_days(ndays, late_once=False, absent2=False, absent1=False):\n",
    "    if ndays == 0:\n",
    "        return 1\n",
    "    \n",
    "    total = 0\n",
    "    for status in ['O', 'A', 'L']:\n",
    "        if status == 'L' and late_once: # already late once\n",
    "            pass\n",
    "        elif (absent2 is True) and (absent1 is True) and (status == 'A'): #absent for three consecutive days\n",
    "            pass\n",
    "        else:\n",
    "            _late_once = True if status == 'L' else late_once\n",
    "            _absent2 = absent1\n",
    "            _absent1 = True if status == 'A' else False\n",
    "            total += count_prize_days(ndays-1, late_once=_late_once, absent2=_absent2, absent1=_absent1)\n",
    "    return total\n",
    "\n",
    "print(count_prize_days(limit))\n",
    "%timeit count_prize_days(limit)"
   ]
  },
  {
   "cell_type": "code",
   "execution_count": null,
   "metadata": {},
   "outputs": [],
   "source": []
  }
 ],
 "metadata": {
  "kernelspec": {
   "display_name": "Python 3",
   "language": "python",
   "name": "python3"
  },
  "language_info": {
   "codemirror_mode": {
    "name": "ipython",
    "version": 3
   },
   "file_extension": ".py",
   "mimetype": "text/x-python",
   "name": "python",
   "nbconvert_exporter": "python",
   "pygments_lexer": "ipython3",
   "version": "3.7.1"
  }
 },
 "nbformat": 4,
 "nbformat_minor": 2
}
