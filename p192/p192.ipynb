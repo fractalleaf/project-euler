{
 "cells": [
  {
   "cell_type": "markdown",
   "metadata": {},
   "source": [
    "# Project Euler problem 192 - Best Approximations\n",
    "\n",
    "[Link to problem on Project Euler homepage](https://projecteuler.net/problem=192)\n",
    "\n",
    "## Description\n",
    "\n",
    "Let $x$ be a real number.\n",
    "A *best approximation* to $x$ for the denominator bound $d$ is a rational number $r/s$ in reduced form, with $s \\leq d$, such that any rational number which is closer to $x$ than $r/s$ has a denominator larger than $d$:\n",
    "\n",
    "$$|p/q-x| < |r/s-x| \\Rightarrow q > d$$\n",
    "\n",
    "For example, the best approximation to $\\sqrt{13}$ for the denominator bound $20$ is $18/5$ and the best approximation to $\\sqrt{13}$ for the denominator bound $30$ is $101/28$.\n",
    "\n",
    "Find the sum of all denominators of the best approximations to $\\sqrt{n}$ for the denominator bound $10^{12}$, where $n$ is not a perfect square and $1 < n \\leq 100000$."
   ]
  },
  {
   "cell_type": "code",
   "execution_count": 5,
   "metadata": {},
   "outputs": [],
   "source": [
    "from math import sqrt\n",
    "from itertools import cycle\n",
    "\n",
    "def continued_fraction_periodic(d):\n",
    "\n",
    "    sd = sqrt(d)\n",
    "    p, q = 0, 1\n",
    "\n",
    "    terms = []\n",
    "    pq = {}\n",
    "\n",
    "    while (p, q) not in pq:\n",
    "        pq[(p, q)] = len(terms)\n",
    "        terms.append(int((p + sd)/q))\n",
    "        # black magic to determine period\n",
    "        p = terms[-1]*q - p\n",
    "        q = (d - p**2)//q\n",
    "        yield terms[-1]\n",
    "\n",
    "    i = pq[(p, q)]\n",
    "    \n",
    "    for term in cycle(terms[i:]):\n",
    "        yield term"
   ]
  },
  {
   "cell_type": "code",
   "execution_count": 6,
   "metadata": {},
   "outputs": [
    {
     "name": "stdout",
     "output_type": "stream",
     "text": [
      "([17721201717166, 22555308267375], [254461627067, 323875351814], 4)\n"
     ]
    }
   ],
   "source": [
    "def best_approximation_convergents(n, bound):\n",
    "    cf_iter = continued_fraction_periodic(n) # continued fraction iterator\n",
    "    \n",
    "    s0 = next(cf_iter)\n",
    "    s1 = next(cf_iter)\n",
    "    \n",
    "    # initialize rational approximations\n",
    "    p = [None, s0, s0*s1 + 1] # numerator\n",
    "    q = [None,  1, s1] # denominator\n",
    "    \n",
    "    for a in cf_iter:\n",
    "        p[0], q[0] = p[1], q[1]\n",
    "        p[1], q[1] = p[2], q[2]\n",
    "        p[2], q[2] = p[0] + a*p[1], q[0] + a*q[1]\n",
    "\n",
    "        if q[2] > bound:\n",
    "            break\n",
    "    return p[:2], q[:2], a\n",
    "\n",
    "print(best_approximation_convergents(4850, 10**12))"
   ]
  },
  {
   "cell_type": "code",
   "execution_count": 7,
   "metadata": {},
   "outputs": [
    {
     "name": "stdout",
     "output_type": "stream",
     "text": [
      "(62831818251916, 902212330695)\n",
      "(101, 28)\n"
     ]
    }
   ],
   "source": [
    "def best_approximation_semiconvergents(n, bound):\n",
    "    \n",
    "    p, q, a = best_approximation_convergents(n, bound)\n",
    "    \n",
    "    p_best, q_best = p[1], q[1] # current estimate of best approximation\n",
    "    \n",
    "    if a == 1: # no semi convergents. Convergent is best approximation\n",
    "        return p_best, q_best\n",
    "\n",
    "    if a % 2 == 0: # if a is even we have to check if first semi convergent better approximation\n",
    "        p_sc, q_sc = p[0] + a*p[1]//2, q[0] + a*q[1]//2\n",
    "        \n",
    "        if q_sc > bound: # if semi convergent exceeds bound return best convergent approximation\n",
    "            return p_best, q_best\n",
    "\n",
    "        if q_best**2*abs(p_sc**2 - q_sc**2*n) < q_sc**2*abs(p_best**2 - q_best**2*n):\n",
    "            p_best, q_best = p_sc, q_sc\n",
    "    \n",
    "    alim = a//2 + 1\n",
    "    \n",
    "    for _a in range(a//2+1, a):\n",
    "        p_sc, q_sc = p[0] + _a*p[1], q[0] + _a*q[1]\n",
    "        \n",
    "        if q_sc > bound:\n",
    "            break\n",
    "        \n",
    "        p_best, q_best = p_sc, q_sc\n",
    "    \n",
    "    return p_best, q_best\n",
    "\n",
    "print(best_approximation_semiconvergents(4850, 10**12))\n",
    "print(best_approximation_semiconvergents(13, 30))"
   ]
  },
  {
   "cell_type": "code",
   "execution_count": 9,
   "metadata": {},
   "outputs": [
    {
     "name": "stdout",
     "output_type": "stream",
     "text": [
      "Result: 57060635927998347\n",
      "Time elapsed = 0h 0m 3.540848s\n"
     ]
    }
   ],
   "source": [
    "from time import time\n",
    "from math import sqrt\n",
    "\n",
    "t0 = time()\n",
    "\n",
    "limit = 10**5\n",
    "bound = 10**12\n",
    "\n",
    "squares = [i**2 for i in range(2, int(sqrt(limit))+1)]\n",
    "\n",
    "total = 0\n",
    "for n in range(2, limit+1):\n",
    "    if n in squares:\n",
    "        continue\n",
    "    \n",
    "    p, q = best_approximation_semiconvergents(n, bound)\n",
    "    total += q\n",
    "\n",
    "seconds = time() - t0\n",
    "\n",
    "minutes, seconds = divmod(seconds, 60)\n",
    "hours, minutes = divmod(minutes, 60)\n",
    "\n",
    "print(\"Result: {}\".format(total))\n",
    "print(\"Time elapsed = {:.0f}h {:.0f}m {:f}s\".format(hours, minutes, seconds))"
   ]
  },
  {
   "cell_type": "code",
   "execution_count": null,
   "metadata": {},
   "outputs": [],
   "source": []
  }
 ],
 "metadata": {
  "kernelspec": {
   "display_name": "Python 3",
   "language": "python",
   "name": "python3"
  },
  "language_info": {
   "codemirror_mode": {
    "name": "ipython",
    "version": 3
   },
   "file_extension": ".py",
   "mimetype": "text/x-python",
   "name": "python",
   "nbconvert_exporter": "python",
   "pygments_lexer": "ipython3",
   "version": "3.7.1"
  }
 },
 "nbformat": 4,
 "nbformat_minor": 2
}
