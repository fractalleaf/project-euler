{
 "cells": [
  {
   "cell_type": "code",
   "execution_count": 1,
   "metadata": {},
   "outputs": [],
   "source": [
    "from time import time\n",
    "\n",
    "def time_elapsed(t):\n",
    "    seconds = time() - t\n",
    "    \n",
    "    minutes, seconds = divmod(seconds, 60)\n",
    "    hours, minutes = divmod(minutes, 60)\n",
    "    \n",
    "    return \"{:.0f}h {:.0f}m {:f}s\".format(hours, minutes, seconds)"
   ]
  },
  {
   "cell_type": "markdown",
   "metadata": {},
   "source": [
    "# Project Euler problem 193 - Squarefree Numbers\n",
    "\n",
    "[Link to problem on Project Euler homepage](https://projecteuler.net/problem=193)\n",
    "\n",
    "## Description\n",
    "\n",
    "A positive integer $n$ is called squarefree, if no square of a prime divides $n$, thus 1, 2, 3, 5, 6, 7, 10, 11 are squarefree, but not 4, 8, 9, 12.\n",
    "\n",
    "How many squarefree numbers are there below $2^{50}$?"
   ]
  },
  {
   "cell_type": "markdown",
   "metadata": {},
   "source": [
    "## Brute Foce with integer factorization"
   ]
  },
  {
   "cell_type": "code",
   "execution_count": 2,
   "metadata": {},
   "outputs": [],
   "source": [
    "from sympy import factorint\n",
    "\n",
    "def square_free_factorint(limit):\n",
    "    total = 1\n",
    "    for i in range(2, limit):\n",
    "        square_free = 1\n",
    "        for exponent in factorint(i).values():\n",
    "            if exponent > 1:\n",
    "                square_free = 0\n",
    "                break\n",
    "        total += square_free\n",
    "    return total"
   ]
  },
  {
   "cell_type": "code",
   "execution_count": 3,
   "metadata": {},
   "outputs": [
    {
     "name": "stdout",
     "output_type": "stream",
     "text": [
      "Result: 39844\n",
      "Time elapsed: 0h 0m 0.477426s\n"
     ]
    }
   ],
   "source": [
    "t0 = time()\n",
    "\n",
    "limit = 2**16\n",
    "\n",
    "result = square_free_factorint(limit)\n",
    "\n",
    "print(\"Result: {}\".format(result))\n",
    "print(\"Time elapsed: {}\".format(time_elapsed(t0)))"
   ]
  },
  {
   "cell_type": "markdown",
   "metadata": {},
   "source": [
    "## Smarter algorithm using Inclusion-exclusion principle"
   ]
  },
  {
   "cell_type": "code",
   "execution_count": 4,
   "metadata": {},
   "outputs": [],
   "source": [
    "from functools import reduce\n",
    "import operator\n",
    "\n",
    "def prod(iterable):\n",
    "    return reduce(operator.mul, iterable, 1)"
   ]
  },
  {
   "cell_type": "code",
   "execution_count": 5,
   "metadata": {},
   "outputs": [
    {
     "name": "stdout",
     "output_type": "stream",
     "text": [
      "1 1 0h 0m 41.521235s\n",
      "2 759 0h 0m 43.667496s\n",
      "3 6184 0h 0m 59.398395s\n",
      "4 13223 0h 2m 23.198822s\n",
      "5 11218 0h 5m 19.474297s\n",
      "6 3986 0h 7m 42.228068s\n",
      "7 500 0h 8m 31.941519s\n",
      "8 10 0h 8m 38.144234s\n",
      "Result: 684465067343069\n",
      "Time elapsed: 0h 8m 38.268557s\n"
     ]
    }
   ],
   "source": [
    "from sympy import primerange\n",
    "\n",
    "t0 = time()\n",
    "\n",
    "exponent = 50\n",
    "\n",
    "limit = 2**exponent\n",
    "sqrt_limit = 2**(exponent//2)\n",
    "\n",
    "sq_primes = [p**2 for p in primerange(1, sqrt_limit+1)]\n",
    "\n",
    "previous_products = [(1, 0)]\n",
    "next_products = []\n",
    "\n",
    "total = 0\n",
    "for n_comb in range(1, len(sq_primes)+1):\n",
    "    if prod(sq_primes[:n_comb]) >= limit:\n",
    "        break\n",
    "    print(n_comb, len(previous_products), time_elapsed(t0))\n",
    "    for j, (prev_prod, ibeg) in enumerate(previous_products):\n",
    "        for i, sq_prime in enumerate(sq_primes[ibeg:]):\n",
    "            product = prev_prod*sq_prime\n",
    "            if product >= limit:\n",
    "                break\n",
    "            if i+ibeg+1 < len(sq_primes):\n",
    "                if product*sq_primes[i+ibeg+1] < limit:\n",
    "                    next_products.append((product, i+ibeg+1))\n",
    "            total += (-1)**(n_comb+1) * ((limit-1)//product)\n",
    "    previous_products = next_products\n",
    "    next_products = []\n",
    "\n",
    "print(\"Result: {}\".format(limit-total-1))\n",
    "print(\"Time elapsed: {}\".format(time_elapsed(t0)))"
   ]
  },
  {
   "cell_type": "code",
   "execution_count": null,
   "metadata": {},
   "outputs": [],
   "source": []
  }
 ],
 "metadata": {
  "kernelspec": {
   "display_name": "Python 3",
   "language": "python",
   "name": "python3"
  },
  "language_info": {
   "codemirror_mode": {
    "name": "ipython",
    "version": 3
   },
   "file_extension": ".py",
   "mimetype": "text/x-python",
   "name": "python",
   "nbconvert_exporter": "python",
   "pygments_lexer": "ipython3",
   "version": "3.7.1"
  }
 },
 "nbformat": 4,
 "nbformat_minor": 2
}
