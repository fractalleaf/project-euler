{
 "cells": [
  {
   "cell_type": "code",
   "execution_count": 58,
   "metadata": {},
   "outputs": [],
   "source": [
    "from time import time\n",
    "\n",
    "def time_elapsed(t):\n",
    "    seconds = time() - t\n",
    "    \n",
    "    minutes, seconds = divmod(seconds, 60)\n",
    "    hours, minutes = divmod(minutes, 60)\n",
    "    \n",
    "    return \"{:.0f}h {:.0f}m {:f}s\".format(hours, minutes, seconds)"
   ]
  },
  {
   "cell_type": "markdown",
   "metadata": {},
   "source": [
    "# Project Euler problem 196 - Prime triplets\n",
    "\n",
    "[Link to problem on Project Euler homepage](https://projecteuler.net/problem=196)\n",
    "\n",
    "## Description\n",
    "\n",
    "Build a triangle from all positive integers in the following way:\n",
    "\n",
    "````\n",
    " 1\n",
    " 2  3\n",
    " 4  5  6\n",
    " 7  8  9 10\n",
    "11 12 13 14 15\n",
    "16 17 18 19 20 21\n",
    "22 23 24 25 26 27 28\n",
    "29 30 31 32 33 34 35 36\n",
    "37 38 39 40 41 42 43 44 45\n",
    "46 47 48 49 50 51 52 53 54 55\n",
    "56 57 58 59 60 61 62 63 64 65 66\n",
    ". . .\n",
    "````\n",
    "\n",
    "Each positive integer has up to eight neighbours in the triangle.\n",
    "\n",
    "A set of three primes is called a prime triplet if one of the three primes has the other two as neighbours in the triangle.\n",
    "\n",
    "For example, in the second row, the prime numbers 2 and 3 are elements of some prime triplet.\n",
    "\n",
    "If row 8 is considered, it contains two primes which are elements of some prime triplet, i.e. 29 and 31.\n",
    "If row 9 is considered, it contains only one prime which is an element of some prime triplet: 37.\n",
    "\n",
    "Define S(n) as the sum of the primes in row n which are elements of any prime triplet.\n",
    "Then S(8)=60 and S(9)=37.\n",
    "\n",
    "You are given that S(10000)=950007619.\n",
    "\n",
    "Find  S(5678027) + S(7208785)."
   ]
  },
  {
   "cell_type": "code",
   "execution_count": 59,
   "metadata": {},
   "outputs": [],
   "source": [
    "from math import sqrt, ceil\n",
    "\n",
    "def triangular(n):\n",
    "    return n*(n+1)//2\n",
    "\n",
    "def first(row):\n",
    "    return triangular(row)+1\n",
    "\n",
    "def last(row):\n",
    "    return triangular(row+1)\n",
    "\n",
    "def row_index(n):\n",
    "    return ceil((sqrt(8*n + 1) - 1)/2)-1\n",
    "\n",
    "def column_index(n, row=None):\n",
    "    row = row_index(n) if row is None else row\n",
    "    column = n - first(row)\n",
    "    return column\n",
    "\n",
    "def row_column_index(n):\n",
    "    row = row_index(n)\n",
    "    return (row, column_index(n, row))\n",
    "\n",
    "def number(row, column):\n",
    "    return first(row)+column\n",
    "\n",
    "def neighbour_indices(row, column):\n",
    "    if row == 0 and column == 0:\n",
    "        return [(1, 0), (1, 1)]\n",
    "    elif row == 1 and column == 0:\n",
    "        return [(0, 0), (1, 1), (2, 0), (2, 1), (2, 2)]\n",
    "    elif row == 1 and column == 1:\n",
    "        return [(0, 0), (1, 0), (2, 0), (2, 1), (2, 2)]\n",
    "    else:\n",
    "        if column == 0:\n",
    "            return [(row-1, 0), (row-1, 1), (row, 1), (row+1, 0), (row+1, 1)]\n",
    "        elif column == row-1:\n",
    "            return [(row-1, column-1), (row-1, column), (row, column-1), (row, column+1), (row+1, column-1), (row+1, column), (row+1, column+1)]\n",
    "        elif column == row:\n",
    "            return [(row-1, column-1), (row, column-1), (row+1, column-1), (row+1, column), (row+1, column+1)]\n",
    "        else:\n",
    "            return [(row-1, column-1), (row-1, column), (row-1, column+1), (row, column-1), (row, column+1), (row+1, column-1), (row+1, column), (row+1, column+1)]\n",
    "\n",
    "def neighbour_numbers(n):\n",
    "    row, column = row_column_index(n)\n",
    "    return [number(r, c) for r, c in neighbour_indices(row, column)]"
   ]
  },
  {
   "cell_type": "code",
   "execution_count": 60,
   "metadata": {},
   "outputs": [
    {
     "name": "stdout",
     "output_type": "stream",
     "text": [
      "[(2, 0), (2, 1), (3, 1), (4, 0), (4, 1)]\n",
      "[(2, 0), (2, 1), (2, 2), (3, 0), (3, 2), (4, 0), (4, 1), (4, 2)]\n",
      "[(2, 1), (2, 2), (3, 1), (3, 3), (4, 1), (4, 2), (4, 3)]\n",
      "[(2, 2), (3, 2), (4, 2), (4, 3), (4, 4)]\n",
      "[4, 5, 8, 11, 12]\n",
      "[4, 5, 6, 7, 9, 11, 12, 13]\n",
      "[5, 6, 8, 10, 12, 13, 14]\n",
      "[6, 9, 13, 14, 15]\n"
     ]
    }
   ],
   "source": [
    "assert all([first(0) == 1, first(1) == 2, first(2) == 4, first(3) == 7, first(4) == 11, first(5) == 16])\n",
    "\n",
    "assert all([last(0) == 1, last(1) == 3, last(2) == 6, last(3) == 10, last(4) == 15, last(5) == 21])\n",
    "\n",
    "assert all([row_index(1) == 0, row_index(2) == 1, row_index(3) == 1, row_index(29) == 7, row_index(59) == 10])\n",
    "\n",
    "assert column_index(10, row=3) == 3\n",
    "\n",
    "assert number(3, 3) == 10\n",
    "\n",
    "print(neighbour_indices(3, 0))\n",
    "print(neighbour_indices(3, 1))\n",
    "print(neighbour_indices(3, 2))\n",
    "print(neighbour_indices(3, 3))\n",
    "\n",
    "print(neighbour_numbers(7))\n",
    "print(neighbour_numbers(8))\n",
    "print(neighbour_numbers(9))\n",
    "print(neighbour_numbers(10))"
   ]
  },
  {
   "cell_type": "code",
   "execution_count": 75,
   "metadata": {},
   "outputs": [
    {
     "name": "stdout",
     "output_type": "stream",
     "text": [
      "60\n",
      "37\n",
      "950007619\n"
     ]
    }
   ],
   "source": [
    "from sympy import primerange, isprime\n",
    "\n",
    "def prime_neighbours(n):\n",
    "    return [_n for _n in neighbour_numbers(n) if isprime(_n)]\n",
    "\n",
    "def S(row_number):\n",
    "    row_index = row_number - 1\n",
    "    #primes = list(primerange(first(row_index-2), last(row_index+2)+1))\n",
    "    \n",
    "    total = 0\n",
    "    pl = list(primerange(first(row_index), last(row_index)+1))\n",
    "    for i, prime in enumerate(pl):\n",
    "        pn = prime_neighbours(prime)\n",
    "        if len(pn) >= 2:\n",
    "            total += prime\n",
    "        elif len(pn) == 1:\n",
    "            _pn = prime_neighbours(pn[0])\n",
    "            if len(_pn) >= 2:\n",
    "                total += prime\n",
    "    return total\n",
    "\n",
    "print(S(8))\n",
    "print(S(9))\n",
    "print(S(10000))"
   ]
  },
  {
   "cell_type": "code",
   "execution_count": 77,
   "metadata": {},
   "outputs": [
    {
     "name": "stdout",
     "output_type": "stream",
     "text": [
      "79697256800321526 0h 0m 12.982290s\n",
      "242605983970758409 0h 0m 30.244469s\n",
      "Result: 322303240771079935\n",
      "Time elapsed: 0h 0m 30.244639s\n"
     ]
    }
   ],
   "source": [
    "t0 = time()\n",
    "\n",
    "t1 = S(5678027)\n",
    "print(t1, time_elapsed(t0))\n",
    "t2 = S(7208785)\n",
    "print(t2, time_elapsed(t0))\n",
    "total = t1+t2\n",
    "\n",
    "print(\"Result: {}\".format(total))\n",
    "print(\"Time elapsed: {}\".format(time_elapsed(t0)))"
   ]
  },
  {
   "cell_type": "code",
   "execution_count": null,
   "metadata": {},
   "outputs": [],
   "source": []
  }
 ],
 "metadata": {
  "kernelspec": {
   "display_name": "Python 3",
   "language": "python",
   "name": "python3"
  },
  "language_info": {
   "codemirror_mode": {
    "name": "ipython",
    "version": 3
   },
   "file_extension": ".py",
   "mimetype": "text/x-python",
   "name": "python",
   "nbconvert_exporter": "python",
   "pygments_lexer": "ipython3",
   "version": "3.7.1"
  }
 },
 "nbformat": 4,
 "nbformat_minor": 2
}
