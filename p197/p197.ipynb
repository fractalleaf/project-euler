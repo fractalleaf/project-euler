{
 "cells": [
  {
   "cell_type": "code",
   "execution_count": 9,
   "metadata": {},
   "outputs": [],
   "source": [
    "from time import time\n",
    "\n",
    "def time_elapsed(t):\n",
    "    seconds = time() - t\n",
    "    \n",
    "    minutes, seconds = divmod(seconds, 60)\n",
    "    hours, minutes = divmod(minutes, 60)\n",
    "    \n",
    "    return \"{:.0f}h {:.0f}m {:f}s\".format(hours, minutes, seconds)"
   ]
  },
  {
   "cell_type": "markdown",
   "metadata": {},
   "source": [
    "# Project Euler problem 197 - Investigating the behaviour of a recursively defined sequence\n",
    "\n",
    "[Link to problem on Project Euler homepage](https://projecteuler.net/problem=197)\n",
    "\n",
    "## Description\n",
    "\n",
    "Given is the function $f(x) = \\lfloor 2^{30.403243784-x^2}\\rfloor \\times 10^{-9}$ ( $\\lfloor \\, \\rfloor$ is the floor-function), the sequence $u_n$ is defined by $u_0 = -1$ and $u_{n+1} = f(u_n)$.\n",
    "\n",
    "Find $u_n$ + $u_{n+1}$ for $n = 10^{12}$.\n",
    "Give your answer with 9 digits after the decimal point."
   ]
  },
  {
   "cell_type": "code",
   "execution_count": 10,
   "metadata": {},
   "outputs": [
    {
     "name": "stdout",
     "output_type": "stream",
     "text": [
      "0.71\n",
      "1.001242148\n"
     ]
    }
   ],
   "source": [
    "def f(x):\n",
    "    return int(2**(30.403243784-x**2))/10**9\n",
    "\n",
    "print(f(-1))\n",
    "print(f(f(-1)))"
   ]
  },
  {
   "cell_type": "code",
   "execution_count": 15,
   "metadata": {},
   "outputs": [
    {
     "name": "stdout",
     "output_type": "stream",
     "text": [
      "Result: 1.710637717\n",
      "Time elapsed: 0h 0m 0.000896s\n"
     ]
    }
   ],
   "source": [
    "t0 = time()\n",
    "\n",
    "un = -1\n",
    "for n in range(1, 10**3+1):\n",
    "    un = f(un)\n",
    "\n",
    "unp1 = f(un)\n",
    "\n",
    "total = un + unp1\n",
    "print(\"Result: {}\".format(total))\n",
    "print(\"Time elapsed: {}\".format(time_elapsed(t0)))"
   ]
  },
  {
   "cell_type": "markdown",
   "metadata": {},
   "source": [
    "The solution converges quickly to a bi-stable value, and we therefore do not have to iterate all the way to $10^{12}$."
   ]
  },
  {
   "cell_type": "code",
   "execution_count": null,
   "metadata": {},
   "outputs": [],
   "source": []
  }
 ],
 "metadata": {
  "kernelspec": {
   "display_name": "Python 3",
   "language": "python",
   "name": "python3"
  },
  "language_info": {
   "codemirror_mode": {
    "name": "ipython",
    "version": 3
   },
   "file_extension": ".py",
   "mimetype": "text/x-python",
   "name": "python",
   "nbconvert_exporter": "python",
   "pygments_lexer": "ipython3",
   "version": "3.7.1"
  }
 },
 "nbformat": 4,
 "nbformat_minor": 2
}
