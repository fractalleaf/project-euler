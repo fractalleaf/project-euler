{
 "cells": [
  {
   "cell_type": "code",
   "execution_count": 52,
   "metadata": {},
   "outputs": [],
   "source": [
    "from time import time\n",
    "\n",
    "def time_elapsed(t):\n",
    "    seconds = time() - t\n",
    "    \n",
    "    minutes, seconds = divmod(seconds, 60)\n",
    "    hours, minutes = divmod(minutes, 60)\n",
    "    \n",
    "    return \"{:.0f}h {:.0f}m {:f}s\".format(hours, minutes, seconds)"
   ]
  },
  {
   "cell_type": "markdown",
   "metadata": {},
   "source": [
    "# Project Euler problem 199 - Iterative Circle Packing\n",
    "\n",
    "[Link to problem on Project Euler homepage](https://projecteuler.net/problem=199)\n",
    "\n",
    "## Description\n",
    "\n",
    "Three circles of equal radius are placed inside a larger circle such that each pair of circles is tangent to one another and the inner circles do not overlap. There are four uncovered \"gaps\" which are to be filled iteratively with more tangent circles.\n",
    "\n",
    "![](p199_circles_in_circles.gif)\n",
    "\n",
    "\n",
    "At each iteration, a maximally sized circle is placed in each gap, which creates more gaps for the next iteration. After 3 iterations (pictured), there are 108 gaps and the fraction of the area which is not covered by circles is 0.06790342, rounded to eight decimal places.\n",
    "\n",
    "What fraction of the area is not covered by circles after 10 iterations?\n",
    "Give your answer rounded to eight decimal places using the format x.xxxxxxxx ."
   ]
  },
  {
   "cell_type": "markdown",
   "metadata": {},
   "source": [
    "## Solution\n",
    "Solved using Decartes' theorem.\n",
    "\n",
    "I assume that the outer circle has a radius of 1\n",
    "\n",
    "The two first iterations (0 and 1) are special. The zeroth iteration places first three circles in the large circle. The second iteration places four more circles, each of which touches either two or three of the parent circles.\n",
    "\n",
    "For subsequent iterations each new circle only touches one parent. We can add new circles by keeping track of how the parent touches the previous generations."
   ]
  },
  {
   "cell_type": "code",
   "execution_count": 57,
   "metadata": {},
   "outputs": [
    {
     "data": {
      "text/plain": [
       "(13.928203230275514, -1.0)"
      ]
     },
     "execution_count": 57,
     "metadata": {},
     "output_type": "execute_result"
    }
   ],
   "source": [
    "from math import sqrt, pi\n",
    "\n",
    "def fourth_curvature(k1, k2, k3):\n",
    "    k4p = k1 + k2 + k3 + 2*sqrt(k1*k2 + k2*k3 + k3*k1)\n",
    "    k4m = k1 + k2 + k3 - 2*sqrt(k1*k2 + k2*k3 + k3*k1)\n",
    "    return k4p, k4m\n",
    "\n",
    "def update_area(circles):\n",
    "    a = 0\n",
    "    for curvature, kisses in circles:\n",
    "        a += pi*(1/curvature)**2\n",
    "#         print(curvature, 1/curvature, pi*(1/curvature)**2, a)\n",
    "    return a\n",
    "\n",
    "fourth_curvature(2.1547005383792524, 2.1547005383792524, 2.1547005383792524)"
   ]
  },
  {
   "cell_type": "code",
   "execution_count": 58,
   "metadata": {},
   "outputs": [
    {
     "name": "stdout",
     "output_type": "stream",
     "text": [
      "0 2.0300058388614444 0.35382907 0h 0m 0.000630s\n",
      "1 2.5191367100002275 0.19813388 0h 0m 0.000993s\n",
      "2 2.7830182078223165 0.11413779 0h 0m 0.009713s\n",
      "3 2.928267777041921 0.06790342 0h 0m 0.010007s\n",
      "4 3.0106594266624893 0.04167734 0h 0m 0.010323s\n",
      "5 3.058828321056446 0.02634471 0h 0m 0.010968s\n",
      "6 3.08779112779644 0.01712556 0h 0m 0.012247s\n",
      "7 3.1056662974099223 0.01143571 0h 0m 0.019523s\n",
      "8 3.116973644223699 0.00783647 0h 0m 0.053690s\n",
      "9 3.1242970046184206 0.00550538 0h 0m 0.086884s\n",
      "10 3.129149215229872 0.00396087 0h 0m 0.183979s\n",
      "Result: 0.00396087\n",
      "Time elapsed: 0h 0m 0.184251s\n"
     ]
    }
   ],
   "source": [
    "t0 = time()\n",
    "\n",
    "area = 0 # area covered by inscriped circles\n",
    "\n",
    "## zeroth iteration\n",
    "k0 = -1 # surrounding circle curvature\n",
    "k1 = 2.1547005383792524 # curvature of circles in zeroth iteration\n",
    "circles = [(k1, (k0, k1, k1)), (k1, (k1, k0, k1)), (k1, (k1, k1, k0))] # zeroth iteration circles\n",
    "area += update_area(circles) # areas of circles in first iteration\n",
    "print(0, area, round(1-area/pi, 8), time_elapsed(t0))\n",
    "\n",
    "## first iteration\n",
    "k2 = max(fourth_curvature(k0, k1, k1)) # curvature edge circles\n",
    "k3 = max(fourth_curvature(k1, k1, k1)) # curvature center circle\n",
    "circles = [(k2, (k0, k1, k1)), (k2, (k1, k0, k1)), (k2, (k1, k1, k0)), (k3, (k1, k1, k1))]\n",
    "area += update_area(circles)\n",
    "print(1, area, round(1-area/pi, 8), time_elapsed(t0))\n",
    "\n",
    "## subsequent iterations\n",
    "new_circles = []\n",
    "for i in range(2, 11):\n",
    "    new_circles = []\n",
    "    for k0, (k1, k2, k3) in circles:\n",
    "        k4 = max(fourth_curvature(k0, k1, k2))\n",
    "        new_circles.append((k4, (k0, k1, k2)))\n",
    "        \n",
    "        k4 = max(fourth_curvature(k0, k2, k3))\n",
    "        new_circles.append((k4, (k0, k2, k3)))\n",
    "        \n",
    "        k4 = max(fourth_curvature(k0, k3, k1))\n",
    "        new_circles.append((k4, (k0, k3, k1)))\n",
    "    circles = new_circles[:]\n",
    "    area += update_area(circles)\n",
    "    print(i, area, round(1-area/pi, 8), time_elapsed(t0))\n",
    "\n",
    "print(\"Result: {}\".format(round(1-area/pi, 8)))\n",
    "print(\"Time elapsed: {}\".format(time_elapsed(t0)))"
   ]
  },
  {
   "cell_type": "code",
   "execution_count": null,
   "metadata": {},
   "outputs": [],
   "source": []
  }
 ],
 "metadata": {
  "kernelspec": {
   "display_name": "Python 3",
   "language": "python",
   "name": "python3"
  },
  "language_info": {
   "codemirror_mode": {
    "name": "ipython",
    "version": 3
   },
   "file_extension": ".py",
   "mimetype": "text/x-python",
   "name": "python",
   "nbconvert_exporter": "python",
   "pygments_lexer": "ipython3",
   "version": "3.7.1"
  }
 },
 "nbformat": 4,
 "nbformat_minor": 2
}
