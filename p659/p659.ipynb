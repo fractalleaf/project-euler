{
 "cells": [
  {
   "cell_type": "markdown",
   "metadata": {},
   "source": [
    "# Project Euler problem 659 - Largest prime"
   ]
  },
  {
   "cell_type": "markdown",
   "metadata": {},
   "source": [
    "[Link to problem on Project Euler homepage](https://projecteuler.net/problem=659)\n",
    "\n",
    "## Description\n",
    "\n",
    "Consider the sequence $n^2+3$ with $n \\geq 1$.\n",
    "\n",
    "If we write down the first terms of this sequence we get: $4,7,12,19,28,39,52,67,84,103,124,147,172,199,228,259,292,327,364,\\ldots$.\n",
    "\n",
    "We see that the terms for $n = 6$ and $n = 7$ (39 and 52) are both divisible by 13. In fact 13 is the largest prime dividing any two successive terms of this sequence.\n",
    "\n",
    "Let $P(k)$ be the largest prime that divides any two successive terms of the sequence $n^2+k^2$.\n",
    "\n",
    "Find the last 18 digits of $\\sum_{k=1}^{10000000} P(k)$."
   ]
  },
  {
   "cell_type": "markdown",
   "metadata": {},
   "source": [
    "## Preliminary investigation\n",
    "If the nth term of the sequence can be written as $n^2 + k^2$ then the subsequent term can be written as\n",
    "\n",
    "$$(n+1)^2 + k^2 = n^2 + k^2 + 2n + 1.$$\n",
    "\n",
    "If $n^2 + k^2$ can be divided by an integer, $p$, then $2n + 1$ must also be divisable by $p$, otherwise $(n+1)^2 + k^2$ cannot be divisable by $p$.\n",
    "\n",
    "This means that\n",
    "\n",
    "$$m = \\frac{n^2 + k^2}{2n + 1}$$\n",
    "\n",
    "will be an integer. Solving this for $n$ while assuming $k$ and $m$ positive yields\n",
    "\n",
    "$$n = \\sqrt{m^2 - k^2 + m} + m.$$\n",
    "\n",
    "For $n$ to come out as an integer, the expression under the square root must be a square number. This is easily seen to be true when $m = k^2$, which yields $n = 2k^2$.\n",
    "\n",
    "At this point I am going to conjecture that there are no other integer solutions to the equation. This means that we need to find the largest prime factor for each $4k^2 + 1$ for each value of $k$ between $1$ and $10^7$.\n",
    "\n",
    "## Algorithm\n",
    "\n",
    "The problem can be solved with [trial division](https://en.wikipedia.org/wiki/Trial_division). For each $k$, we loop over the primes $< \\sqrt{4k^2 + 1}$ to see if they divide $4k^2 + 1$. If, at the end, what remains of $4k^2 + 1$ is a $1$ it means that the largests of the generated primes is the largest prime factor. If the remainder is $> 1$ it means that the remainder itself is the largest prime factor.\n",
    "\n",
    "The last point is because if you have $p \\times q = n$ where both $p$ and $q$ are primes, one of the factors must be $< \\sqrt{n}$. If one does trial division of all primes up to $\\sqrt{n}$, that means that if whatever remains is $> 1$ it must be prime.\n",
    "\n",
    "As one last optimisation I noticed, empirically, that the only primes, $p$, that divide $4k^2 + 1$ are those where $(p - 1) \\mod 4 = 0$. This optimisation is included into the algorithm"
   ]
  },
  {
   "cell_type": "code",
   "execution_count": 1,
   "metadata": {},
   "outputs": [
    {
     "name": "stdout",
     "output_type": "stream",
     "text": [
      "\n",
      "kmax = 1000\n",
      "total = 299015732\n",
      "Time elapsed = 0h 0m 0.005808s\n",
      "\n",
      "kmax = 10000\n",
      "total = 223215627804\n",
      "Time elapsed = 0h 0m 0.272908s\n",
      "\n",
      "kmax = 100000\n",
      "total = 178688812032788\n",
      "Time elapsed = 0h 0m 19.521705s\n",
      "\n",
      "kmax = 1000000\n",
      "total = 148687122056813880\n",
      "Time elapsed = 0h 21m 16.750166s\n"
     ]
    }
   ],
   "source": [
    "from time import time\n",
    "from sympy.ntheory import primerange\n",
    "\n",
    "def p659(kmax):\n",
    "    t0 = time()\n",
    "\n",
    "    primes = list(primerange(1, 2*kmax))\n",
    "    primes = [prime for prime in primes if (prime - 1) % 4 == 0 ]\n",
    "\n",
    "    total = 0\n",
    "    for k in range(1, kmax+1):\n",
    "        rem = 4*k*k + 1\n",
    "        biggest_prime_divisor = 1\n",
    "\n",
    "        for prime in primes:\n",
    "            while prime*prime <= rem and rem % prime == 0:\n",
    "                rem //= prime\n",
    "                biggest_prime_divisor = prime\n",
    "            if prime*prime > rem:\n",
    "                break\n",
    "        total += biggest_prime_divisor if rem == 1 else rem\n",
    "    return total, time()-t0\n",
    "\n",
    "for kmax in [10**3, 10**4, 10**5, 10**6]:\n",
    "    total, seconds = p659(kmax)\n",
    "    minutes, seconds = divmod(seconds, 60)\n",
    "    hours, minutes = divmod(minutes, 60)\n",
    "\n",
    "    print(\"\")\n",
    "    print(\"kmax = {}\".format(kmax))\n",
    "    print(\"total = {}\".format(total))\n",
    "    print(\"Time elapsed = {:.0f}h {:.0f}m {:f}s\".format(hours, minutes, seconds))"
   ]
  },
  {
   "cell_type": "markdown",
   "metadata": {},
   "source": [
    "In pure Python it takes too long to run the algorithm for $`kmax` = 10^7$. Running the algorithm with [pypy](https://pypy.org) (which speeds up algorithm by roughly a factor of 20) it runs in 1h34m."
   ]
  }
 ],
 "metadata": {
  "kernelspec": {
   "display_name": "Python 3",
   "language": "python",
   "name": "python3"
  },
  "language_info": {
   "codemirror_mode": {
    "name": "ipython",
    "version": 3
   },
   "file_extension": ".py",
   "mimetype": "text/x-python",
   "name": "python",
   "nbconvert_exporter": "python",
   "pygments_lexer": "ipython3",
   "version": "3.7.1"
  }
 },
 "nbformat": 4,
 "nbformat_minor": 2
}
