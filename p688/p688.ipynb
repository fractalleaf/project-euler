{
 "cells": [
  {
   "cell_type": "code",
   "execution_count": 1,
   "metadata": {},
   "outputs": [],
   "source": [
    "%matplotlib notebook"
   ]
  },
  {
   "cell_type": "markdown",
   "metadata": {},
   "source": [
    "# Project Euler problem 688 - Piles of Plates"
   ]
  },
  {
   "cell_type": "markdown",
   "metadata": {},
   "source": [
    "[Link to problem on Project Euler homepage](https://projecteuler.net/problem=688)\n",
    "\n",
    "## Description\n",
    "\n",
    "We stack $n$ plates into $k$ non-empty piles where each pile is a different size. Define $f(n,k)$ to be the maximum number of plates possible in the smallest pile. For example when $n=10$ and $k=3$ the piles $2,3,5$ is the best that can be done and so $f(10,3)=2$. It is impossible to divide 10 into 5 non-empty piles and hence $f(10,5)=0$.\n",
    "\n",
    "Define $F(n)$ to be the sum of $f(n,k)$ for all possible pile sizes $k\\geq 1$. For example $F(100)=275$.\n",
    "\n",
    "Further define $S(N)= \\sum_{n=1}^N F(n)$. You are given $S(100)=12656$.\n",
    "\n",
    "Find $S(10^{16})$ giving your answer modulo $1\\,000\\,000\\,007$.\n",
    "\n",
    "## Initial investigation\n",
    "\n",
    "for $k$ piles the smallest number of plates in all piles so that all piles are different and no piles are empty is given by \n",
    "\n",
    "$$1 + 2 + \\ldots + k = \\frac{k(k+1)}{2}.$$\n",
    "\n",
    "In this case the number of plates in the smallest pile is 1.\n",
    "\n",
    "In general, $f$ can be calculated as\n",
    "\n",
    "$$f(n, k) = \\max(0, \\frac{n-\\frac{(k-1)k}{2}}{k}) $$\n",
    "\n",
    "with the maximum number of piles, $k$, for a given number of plates given as\n",
    "\n",
    "$$k_\\mathrm{max} = \\left\\lfloor\\frac{\\sqrt{8n + 1} - 1}{2} \\right\\rfloor. $$\n",
    "\n",
    "With this, we can calculate brute-force versions of all the functions."
   ]
  },
  {
   "cell_type": "code",
   "execution_count": 2,
   "metadata": {},
   "outputs": [
    {
     "name": "stdout",
     "output_type": "stream",
     "text": [
      "f(10, 3) = 2\n",
      "f(10, 5) = 0\n",
      "F(100) = 275\n",
      "S(100) = 12656\n"
     ]
    }
   ],
   "source": [
    "from math import sqrt\n",
    "\n",
    "def kmax(n):\n",
    "    return int((sqrt(8*n + 1) - 1)/2)\n",
    "\n",
    "def f(n, k):\n",
    "    return max(0, (n-(k-1)*k//2)//k)\n",
    "\n",
    "def F(n):\n",
    "    total = 0\n",
    "    for k in range(1, kmax(n)+1):\n",
    "        total += f(n, k)\n",
    "    return total\n",
    "\n",
    "def S(N):\n",
    "    total = 0\n",
    "    for n in range(1, N+1):\n",
    "        total += F(n)\n",
    "    return total\n",
    "\n",
    "print(\"f(10, 3) = {}\".format(f(10, 3)))\n",
    "print(\"f(10, 5) = {}\".format(f(10, 5)))\n",
    "print(\"F(100) = {}\".format(F(100)))\n",
    "print(\"S(100) = {}\".format(S(100)))"
   ]
  },
  {
   "cell_type": "markdown",
   "metadata": {},
   "source": [
    "While the algorithm works, this will be too slow to iterate to $n = 10^{16}$. However, we note that the maximum number of piles for $n = 10^{16}$ is $k_\\mathrm{max} = 141\\,421\\,355$, which is small enough to iterate over. Thus, if we can find a closed form solution for the sum of plates for constant $k$ the problem becomes tractable.\n",
    "\n",
    "Define a function $m(n_\\max, k) = \\sum_{n=n_\\min}^{n_\\max} f(n, k)$, where $n_\\min = \\frac{k(k+1)}{2}$ is the minimum possible total number of plates for given k. This function can be calculated without the need to iterate over $n$."
   ]
  },
  {
   "cell_type": "code",
   "execution_count": 3,
   "metadata": {},
   "outputs": [],
   "source": [
    "def nmin(k):\n",
    "    return k*(k+1)//2\n",
    "\n",
    "def m(nmax, k):\n",
    "    _nmin = nmin(k)\n",
    "    if _nmin >= nmax:\n",
    "        return 0\n",
    "    \n",
    "    ndiff, rem = divmod(nmax - _nmin + 1, k)\n",
    "    \n",
    "    return k*nmin(ndiff) + (ndiff+1)*rem"
   ]
  },
  {
   "cell_type": "markdown",
   "metadata": {},
   "source": [
    "The final step, to iterate over all possible valures of $k$ can be done by brute force"
   ]
  },
  {
   "cell_type": "code",
   "execution_count": 6,
   "metadata": {},
   "outputs": [
    {
     "name": "stdout",
     "output_type": "stream",
     "text": [
      "M(10**6) % 1000000007 = 110941813\n",
      "2min 7s ± 1.47 s per loop (mean ± std. dev. of 7 runs, 1 loop each)\n"
     ]
    }
   ],
   "source": [
    "def M(n, mod=10**9+7):\n",
    "    total = 0\n",
    "    for k in range(1, kmax(n)+1):\n",
    "        total += m(n, k) % mod\n",
    "    return total % mod\n",
    "\n",
    "print(\"M(10**6) % 1000000007 = {}\".format(M(10**16)))\n",
    "%timeit M(10**16)"
   ]
  },
  {
   "cell_type": "markdown",
   "metadata": {},
   "source": [
    "In pure Python this takes a few minutes to run, while it runs in roughly 30 seconds in pypy."
   ]
  }
 ],
 "metadata": {
  "kernelspec": {
   "display_name": "Python 3",
   "language": "python",
   "name": "python3"
  },
  "language_info": {
   "codemirror_mode": {
    "name": "ipython",
    "version": 3
   },
   "file_extension": ".py",
   "mimetype": "text/x-python",
   "name": "python",
   "nbconvert_exporter": "python",
   "pygments_lexer": "ipython3",
   "version": "3.7.1"
  }
 },
 "nbformat": 4,
 "nbformat_minor": 2
}
