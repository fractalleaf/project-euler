{
 "cells": [
  {
   "cell_type": "code",
   "execution_count": 1,
   "metadata": {},
   "outputs": [],
   "source": [
    "%matplotlib notebook"
   ]
  },
  {
   "cell_type": "markdown",
   "metadata": {},
   "source": [
    "# Project Euler problem 689 - Binary Series"
   ]
  },
  {
   "cell_type": "markdown",
   "metadata": {},
   "source": [
    "[Link to problem on Project Euler homepage](https://projecteuler.net/problem=689)\n",
    "\n",
    "## Description\n",
    "\n",
    "For $0 \\leq x < 1$, define $d_i(x)$ to be the $i$th digit after the binary point of the binary representation of $x$.\n",
    "\n",
    "For example $d_2(0.25) = 1$, $d_i(0.25) = 0$ for $i \\neq 2$.\n",
    "\n",
    "Let $f(x) = \\sum_{i=1}^\\infty \\frac{d_i(x)}{i^2}$.\n",
    "\n",
    "Let $p(a)$ be probability that $f(x) > a$, given that $x$ is uniformly distributed between 0 and 1.\n",
    "\n",
    "Find $p(0.5)$. Give your answer rounded to 8 digits after the decimal point."
   ]
  },
  {
   "cell_type": "code",
   "execution_count": 12,
   "metadata": {},
   "outputs": [],
   "source": [
    "from math import pi, log\n",
    "\n",
    "def p(a, total=0, rem=pi**2/6, proba=1, depth=0, max_depth=10):\n",
    "    prob = 1/2**depth\n",
    "    if total > a:\n",
    "        return prob\n",
    "    if (total+rem) <= a:\n",
    "        return 0\n",
    "    if depth >= max_depth:\n",
    "        return 0#proba/2\n",
    "    delta = 1/(depth+1)**2\n",
    "    return p(a, total=total+delta, rem=rem-delta, proba=proba/2, depth=depth+1, max_depth=max_depth) + \\\n",
    "           p(a, total=total, rem=rem-delta, proba=proba/2, depth=depth+1, max_depth=max_depth)"
   ]
  },
  {
   "cell_type": "code",
   "execution_count": 6,
   "metadata": {},
   "outputs": [
    {
     "name": "stdout",
     "output_type": "stream",
     "text": [
      "[-0.4777814332317107]\n",
      "2\n",
      "4\n",
      "8\n",
      "16\n",
      "32\n",
      "64\n",
      "128\n",
      "256\n",
      "512\n",
      "1024\n",
      "2048\n",
      "4096\n",
      "8192\n",
      "16384\n",
      "32768\n",
      "65536\n",
      "131072\n",
      "262144\n",
      "524288\n",
      "1048576\n",
      "2097152\n",
      "4194304\n",
      "[-0.4777814332317107, 0.5222185667682893, -0.22778143323171068, 0.7722185667682893, -0.3666703221205996, 0.6333296778794004, -0.11667032212059958, 0.8833296778794004, -0.4152814332317107, 0.5847185667682893, -0.16528143323171068, 0.8347185667682893, -0.3041703221205996, 0.6958296778794004, -0.05417032212059958, 0.9458296778794004, -0.4377814332317107, 0.5622185667682893, -0.18778143323171068, 0.8122185667682893, -0.3266703221205996, 0.6733296778794005, -0.07667032212059957, 0.9233296778794005, -0.3752814332317107, 0.6247185667682893, -0.12528143323171068, 0.8747185667682893, -0.2641703221205996, 0.7358296778794005, -0.014170322120599578, 0.9858296778794005, -0.4500036554539329, 0.549996344546067, -0.2000036554539329, 0.799996344546067, -0.3388925443428218, 0.6611074556571782, -0.0888925443428218, 0.9111074556571782, -0.3875036554539329, 0.612496344546067, -0.1375036554539329, 0.862496344546067, -0.2763925443428218, 0.7236074556571782, -0.026392544342821803, 0.9736074556571782, -0.4100036554539329, 0.5899963445460671, -0.1600036554539329, 0.8399963445460671, -0.2988925443428218, 0.7011074556571782, -0.048892544342821795, 0.9511074556571782, -0.3475036554539329, 0.6524963445460671, -0.0975036554539329, 0.9024963445460671, -0.2363925443428218, 0.7636074556571782, 0.013607455657178198, 1.0136074556571781, -0.45737326996640454, 0.5426267300335954, -0.20737326996640457, 0.7926267300335954, -0.34626215885529343, 0.6537378411447066, -0.09626215885529346, 0.9037378411447066, -0.39487326996640454, 0.6051267300335954, -0.14487326996640457, 0.8551267300335954, -0.28376215885529343, 0.7162378411447066, -0.03376215885529346, 0.9662378411447066, -0.41737326996640456, 0.5826267300335954, -0.16737326996640456, 0.8326267300335954, -0.30626215885529345, 0.6937378411447066, -0.056262158855293454, 0.9437378411447066, -0.35487326996640456, 0.6451267300335954, -0.10487326996640456, 0.8951267300335954, -0.24376215885529348, 0.7562378411447066, 0.006237841144706543, 1.0062378411447066, -0.42959549218862675, 0.5704045078113732, -0.17959549218862678, 0.8204045078113732]\n"
     ]
    }
   ],
   "source": [
    "from math import pi, sqrt, erf\n",
    "\n",
    "def euler689(a=0.5,k0=22):\n",
    "  E = pi**2/(2*6)\n",
    "  V = pi**4/(4*90)\n",
    "  for k in range(1,k0+1):\n",
    "    x = 1/(2*k*k)\n",
    "    E -= x\n",
    "    V -= x*x\n",
    "  xLst  = [E-a]\n",
    "  print(xLst)\n",
    "  for k in range(1,k0+1):\n",
    "    xLst += [x+1/(k*k) for x in xLst]\n",
    "    print(len(xLst))\n",
    "  print(xLst[:100])\n",
    "#   stddev = sqrt(V)\n",
    "#   s = stddev * sqrt(2)\n",
    "#   res = 0\n",
    "#   for x in xLst:\n",
    "#     if x > 6*stddev:\n",
    "#       res += 1\n",
    "#     elif x > -6*stddev:\n",
    "#       res += (1+erf(x/s))/2\n",
    "#   res /= 2**k0\n",
    "#   return round(res,8)\n",
    "\n",
    "euler689()"
   ]
  },
  {
   "cell_type": "code",
   "execution_count": 5,
   "metadata": {},
   "outputs": [],
   "source": [
    "avg_prob = 1/12*(pi**2 - 6*log(2)**2)"
   ]
  },
  {
   "cell_type": "code",
   "execution_count": 18,
   "metadata": {},
   "outputs": [
    {
     "data": {
      "text/plain": [
       "0.3539597958358377"
      ]
     },
     "execution_count": 18,
     "metadata": {},
     "output_type": "execute_result"
    }
   ],
   "source": [
    "avg_prob/(pi**2/6)"
   ]
  },
  {
   "cell_type": "code",
   "execution_count": 19,
   "metadata": {},
   "outputs": [],
   "source": [
    "def approx_p(depth):\n",
    "    s = 1/12*(pi**2 - 6*log(2)**2)\n",
    "    w = pi**2/6\n",
    "    for i in range(1, depth+1):\n",
    "        s -= 1/i**2/2**i\n",
    "        w -= 1/i**2\n",
    "    return s/w"
   ]
  },
  {
   "cell_type": "code",
   "execution_count": 27,
   "metadata": {},
   "outputs": [
    {
     "data": {
      "text/plain": [
       "0.0001594922192151344"
      ]
     },
     "execution_count": 27,
     "metadata": {},
     "output_type": "execute_result"
    }
   ],
   "source": [
    "approx_p(9)"
   ]
  },
  {
   "cell_type": "code",
   "execution_count": 26,
   "metadata": {},
   "outputs": [
    {
     "data": {
      "text/plain": [
       "0.0009765625"
      ]
     },
     "execution_count": 26,
     "metadata": {},
     "output_type": "execute_result"
    }
   ],
   "source": [
    "1/2**10"
   ]
  },
  {
   "cell_type": "code",
   "execution_count": null,
   "metadata": {},
   "outputs": [],
   "source": []
  }
 ],
 "metadata": {
  "kernelspec": {
   "display_name": "Python 3",
   "language": "python",
   "name": "python3"
  },
  "language_info": {
   "codemirror_mode": {
    "name": "ipython",
    "version": 3
   },
   "file_extension": ".py",
   "mimetype": "text/x-python",
   "name": "python",
   "nbconvert_exporter": "python",
   "pygments_lexer": "ipython3",
   "version": "3.7.1"
  }
 },
 "nbformat": 4,
 "nbformat_minor": 2
}
